{
 "cells": [
  {
   "cell_type": "markdown",
   "id": "811c746c",
   "metadata": {},
   "source": [
    "## Ejemplos de inversión Geofísica"
   ]
  },
  {
   "cell_type": "markdown",
   "id": "3fd08d69",
   "metadata": {},
   "source": [
    "En este notebook veremos un ejemplo de inversión geofísica\n",
    "la \"tomografía acustica\". Este ejemplo nos servirá para \n",
    "explorar los conceptos de problema indeterminado y algunas \n",
    "de las estrategias que pueden usarse para solucionar la \n",
    "inderterminación del problema."
   ]
  },
  {
   "cell_type": "code",
   "execution_count": 8,
   "id": "344f7097",
   "metadata": {},
   "outputs": [],
   "source": [
    "# Importamos las librerias que vamos a usar\n",
    "import numpy as np\n",
    "import matplotlib.pyplot as plt"
   ]
  },
  {
   "cell_type": "markdown",
   "id": "6ef25ba2",
   "metadata": {},
   "source": [
    "## Tomografía acustica 2D"
   ]
  },
  {
   "cell_type": "markdown",
   "id": "3b7f455a",
   "metadata": {},
   "source": [
    "El tiempo de viaje de las ondas acústicas (flechas en la figura) a través de las filas y columnas de una matriz cuadrada de ladrillos se mide con la fuente acústica \"S\" y el receptor \"R\" ubicados en los bordes del cuadrado. El problema inverso consiste en inferir las propiedades acústicas de los ladrillos, representadas aquí por los colores. Aunque el patrón general es variable espacialmente, se asume que los ladrillos individuales son homogéneos en su interior."
   ]
  },
  {
   "cell_type": "markdown",
   "id": "193b53cd",
   "metadata": {},
   "source": [
    "<img src=\"images/tomo_acustica.png\">"
   ]
  },
  {
   "cell_type": "markdown",
   "id": "f0e26a66",
   "metadata": {},
   "source": [
    "Ejemplo 3: La tomografía acustica.\n",
    "\n",
    "Asumiremos que todos los ladrillos tienen el mismo ancho y largo con la medida h = 1."
   ]
  },
  {
   "cell_type": "code",
   "execution_count": 9,
   "id": "6a38bf88",
   "metadata": {},
   "outputs": [
    {
     "name": "stdout",
     "output_type": "stream",
     "text": [
      "[[1. 1. 1. 1. 0. 0. 0. 0. 0. 0. 0. 0. 0. 0. 0. 0.]\n",
      " [0. 0. 0. 0. 1. 1. 1. 1. 0. 0. 0. 0. 0. 0. 0. 0.]\n",
      " [0. 0. 0. 0. 0. 0. 0. 0. 1. 1. 1. 1. 0. 0. 0. 0.]\n",
      " [0. 0. 0. 0. 0. 0. 0. 0. 0. 0. 0. 0. 1. 1. 1. 1.]\n",
      " [1. 0. 0. 0. 1. 0. 0. 0. 1. 0. 0. 0. 1. 0. 0. 0.]\n",
      " [0. 1. 0. 0. 0. 1. 0. 0. 0. 1. 0. 0. 0. 1. 0. 0.]\n",
      " [0. 0. 1. 0. 0. 0. 1. 0. 0. 0. 1. 0. 0. 0. 1. 0.]\n",
      " [0. 0. 0. 1. 0. 0. 0. 1. 0. 0. 0. 1. 0. 0. 0. 1.]]\n"
     ]
    }
   ],
   "source": [
    "# largo y ancho de los ladrillos\n",
    "h = 1\n",
    "\n",
    "# Caso de tomografía acustica\n",
    "N = 8    # número de observaciones\n",
    "M = 16   # número de parámetros del modelo\n",
    "\n",
    "# Construimos la matriz G\n",
    "G = np.zeros((N,M), dtype=float)\n",
    "\n",
    "# formamos la matriz kernel\n",
    "for i in range(4):\n",
    "    for j in range(4):\n",
    "        # medidas en las lineas\n",
    "            k = (i)*4 + j\n",
    "            G[i][k] = h\n",
    "            # medidas en las columnas\n",
    "            k = (j)*4 + i\n",
    "            G[i+4][k] = h\n",
    "print(G)"
   ]
  },
  {
   "cell_type": "code",
   "execution_count": 10,
   "id": "bb81bd5c",
   "metadata": {},
   "outputs": [
    {
     "name": "stdout",
     "output_type": "stream",
     "text": [
      "Tiempos de viaje sin ruido:\n",
      " [4.  3.  2.  0.8 2.2 2.2 2.7 2.7]\n",
      "Tiempos de viaje con ruido:\n",
      " [3.99813781 2.99392309 1.990466   0.79546765 2.19529014 2.21850532\n",
      " 2.70836988 2.72137463]\n"
     ]
    }
   ],
   "source": [
    "# Demos valores de velocidad de onda acustica a cada ladrillo\n",
    "m = np.asarray([1, 1, 1, 1, 2, 2, 1, 1, 2, 2, 2, 2, 5, 5, 5, 5])\n",
    "# Calculemos la \"lentitud\" = 1 / velocidad\n",
    "m = 1 / m\n",
    "# Vector transpuesto para hacer   d = G m\n",
    "# recuerden que G es 8x16 y m es 16x1 parámetros, d es 8x1 observaciones\n",
    "m = m.T\n",
    "\n",
    "# Medidas reales sin ruido\n",
    "d = np.matmul(G, m)\n",
    "print('Tiempos de viaje sin ruido:\\n', d)\n",
    "# Datos con ruido\n",
    "d_con_ruido = np.zeros(len(d), dtype=float)\n",
    "\n",
    "# Agregaremos ruido para crear medidas más reales\n",
    "for i in range(len(d)):\n",
    "    d_con_ruido[i] = d[i] + np.random.normal(0,0.01)  # 0.01 segundo max desviación\n",
    "print('Tiempos de viaje con ruido:\\n', d_con_ruido)\n"
   ]
  },
  {
   "cell_type": "markdown",
   "id": "f2002b9b",
   "metadata": {},
   "source": [
    "## Solución del problema por mínimos cuadrados"
   ]
  },
  {
   "cell_type": "markdown",
   "id": "68bc2974",
   "metadata": {},
   "source": [
    "Recordemos que el sistema\n",
    "d = Gm\n",
    "se puede solucionar con los siguiente pasos\n",
    "\n",
    "G' d = G'G m\n",
    "\n",
    "(G'G)^-1 G' d = (G'G)^-1 (G'G) m\n",
    "\n",
    "(G'G)^-1 G' d = m_est\n",
    "\n",
    "Entonces calculemos lo necesario para resolver este problema"
   ]
  },
  {
   "cell_type": "code",
   "execution_count": 11,
   "id": "eaf02526",
   "metadata": {},
   "outputs": [
    {
     "name": "stdout",
     "output_type": "stream",
     "text": [
      "m_real    m_est\n",
      "1.0       64.0\n",
      "1.0       -24.0\n",
      "1.0       -13.0\n",
      "1.0       -8.0\n",
      "0.5       -76.0\n",
      "0.5       -14.5\n",
      "1.0       5.0\n",
      "1.0       16.0\n",
      "0.5       -21.0\n",
      "0.5       -2.0\n",
      "0.5       7.0\n",
      "0.5       0.5\n",
      "0.2       10.0\n",
      "0.2       4.0\n",
      "0.2       -8.0\n",
      "0.2       0.0\n",
      "\n",
      "\n",
      "Datos observados VS sintéticos \n",
      "\n",
      "d_obs                   d_pred\n",
      "3.9981378128713465       19.0\n",
      "2.9939230892713216       -69.5\n",
      "1.9904660032183619       -15.5\n",
      "0.7954676469579048       6.0\n",
      "2.1952901410833023       -23.0\n",
      "2.218505322292151       -36.5\n",
      "2.7083698839012786       -9.0\n",
      "2.7213746279539595       8.5\n"
     ]
    }
   ],
   "source": [
    "# Calculamos G^T G\n",
    "GT = G.T\n",
    "GTd = np.matmul(GT, d_con_ruido)\n",
    "GTG = np.matmul(GT, G)\n",
    "GTGinv = np.linalg.inv(GTG)\n",
    "m_est = np.matmul(GTGinv, GTd)\n",
    "m_est_no_amor = m_est\n",
    "print('m_real    m_est')\n",
    "for i in range(M):\n",
    "    print(m[i], '     ', m_est[i])\n",
    "\n",
    "print('\\n')\n",
    "print('Datos observados VS sintéticos \\n')\n",
    "d_pred = np.matmul(G, m_est)\n",
    "print('d_obs                   d_pred')\n",
    "for i in range(N):\n",
    "    print(d_con_ruido[i], '     ', d_pred[i])\n"
   ]
  },
  {
   "cell_type": "markdown",
   "id": "237d05e7",
   "metadata": {},
   "source": [
    "¿Qué sucedió? \n",
    "\n",
    "¿Por qué no resolvimos el problema como en el caso anterior?\n",
    "\n",
    "¿Alguna idea?"
   ]
  },
  {
   "cell_type": "markdown",
   "id": "3dfec372",
   "metadata": {},
   "source": [
    "Problemas Indeterminados:\n",
    "Cuando la ecuación d = Gm no proporciona suficiente información para determinar de manera única todos los parámetros del modelo, se dice que el problema es indeterminado. Como vimos anteriormente.\n",
    "\n",
    "Por ejemplo, esto puede ocurrir si hay varias soluciones que tienen un error de predicción igual a cero. A partir del álgebra lineal elemental, sabemos que los problemas indeterminados ocurren cuando hay más incógnitas que datos, es decir, cuando M > N. \n",
    "\n",
    "En este caso M = 16 y N = 8. Por lo tanto M > N\n",
    "\n",
    "Sin embargo, debemos tener en cuenta que no hay ninguna razón especial por la cual el error de predicción deba ser cero para un problema indeterminado. Frecuentemente, los datos determinan de manera única algunos de los parámetros del modelo pero no otros. Por ejemplo, consideremos el experimento acústico. Dado que no se realizan mediciones de la lentitud acústica en el segundo ladrillo dado el primer rayo, es evidente que este parámetro del modelo está completamente sin restricciones por los datos del primer rayo.\n",
    "\n",
    "Si uno intentara resolver este problema con mínimos cuadrados, encontraría que el término $(G T G)^-1$ ya que el núcleo de datos tiene una estructura muy deficiente. Aunque este es un caso bastante trivial en el que solo algunos de los parámetros del modelo son indeterminados, en experimentos realistas, el problema surge en formas más sutiles."
   ]
  },
  {
   "cell_type": "markdown",
   "id": "cb9f7a39",
   "metadata": {},
   "source": [
    "## Aproximación por mínimos cuadrados - problema de optimización"
   ]
  },
  {
   "cell_type": "markdown",
   "id": "246ef084",
   "metadata": {},
   "source": [
    "La mayoría de los problemas inversos que surgen en la práctica no son ni completamente sobredeterminados ni completamente indeterminados. Por ejemplo, en el problema de tomografía de rayos, pueden haber ladrillos por los cuales pasan varios rayos. La opacidad de rayos en algunos ladrillos está claramente sobredeterminada. Por otro lado, puede haber ladrillos que han sido completamente omitidos. Estos ladrillos son completamente indeterminados. También puede haber cajas que no pueden ser resueltas individualmente porque cada rayo que atraviesa uno también atraviesa la misma distancia del otro. Estos ladrillos también están indeterminados, ya que solo se determina su opacidad promedio.\n",
    "\n",
    "Idealmente, nos gustaría clasificar los parámetros del modelo desconocidos en dos grupos: aquellos que están sobredeterminados y aquellos que están indeterminados. Para hacer esto, necesitamos subdividir el problema:"
   ]
  },
  {
   "cell_type": "markdown",
   "id": "7ee2224c",
   "metadata": {},
   "source": [
    "<img src=\"images/solucion_2.png\">"
   ]
  },
  {
   "cell_type": "code",
   "execution_count": 12,
   "id": "9e799268",
   "metadata": {},
   "outputs": [
    {
     "name": "stdout",
     "output_type": "stream",
     "text": [
      "m_real    m_est\n",
      "1.0       1.2081851599944171\n",
      "1.0       1.144562707231519\n",
      "1.0       1.006102038075221\n",
      "1.0       1.0011600462244217\n",
      "0.5       0.957131479094411\n",
      "0.5       0.8935090263315129\n",
      "1.0       0.7550483571752149\n",
      "1.0       0.7501063653244155\n",
      "0.5       0.7062672075811711\n",
      "0.5       0.6426447548182728\n",
      "0.5       0.504184085661975\n",
      "0.5       0.49924209381117557\n",
      "0.2       0.40751761851605683\n",
      "0.2       0.34389516575315854\n",
      "0.2       0.2054344965968607\n",
      "0.2       0.20049250474606128\n",
      "\n",
      "\n",
      "Datos observados VS sintéticos \n",
      "\n",
      "d_obs                   d_pred\n",
      "3.9981378128713465       4.360009951525578\n",
      "2.9939230892713216       3.3557952279255545\n",
      "1.9904660032183619       2.3523381418725946\n",
      "0.7954676469579048       1.1573397856121375\n",
      "2.1952901410833023       3.279101465186056\n",
      "2.218505322292151       3.024611654134463\n",
      "2.7083698839012786       2.470768977509272\n",
      "2.7213746279539595       2.451001010106074\n"
     ]
    }
   ],
   "source": [
    "GGT = np.matmul(G, GT)\n",
    "GGTinv = np.linalg.inv(GGT)\n",
    "m_est = np.matmul(np.matmul(GT, GGTinv), d_con_ruido)\n",
    "m_est_optim = m_est\n",
    "print('m_real    m_est')\n",
    "for i in range(M):\n",
    "    print(m[i], '     ', m_est[i])\n",
    "\n",
    "print('\\n')\n",
    "print('Datos observados VS sintéticos \\n')\n",
    "d_pred = np.matmul(G, m_est)\n",
    "print('d_obs                   d_pred')\n",
    "for i in range(N):\n",
    "    print(d_con_ruido[i], '     ', d_pred[i])"
   ]
  },
  {
   "cell_type": "code",
   "execution_count": null,
   "id": "a46af86a",
   "metadata": {},
   "outputs": [],
   "source": []
  },
  {
   "cell_type": "markdown",
   "id": "52143e7a",
   "metadata": {},
   "source": [
    "## Aproximación - solución por partes"
   ]
  },
  {
   "cell_type": "markdown",
   "id": "0c8c0f3a",
   "metadata": {},
   "source": [
    "<img src=\"images/solucion_dividida.png\">"
   ]
  },
  {
   "cell_type": "markdown",
   "id": "0da62207",
   "metadata": {},
   "source": [
    "## Aproximación mínimos cuadrados amortiguados"
   ]
  },
  {
   "cell_type": "markdown",
   "id": "0752b48f",
   "metadata": {},
   "source": [
    "<img src=\"images/solucion_amortiguada.png\">"
   ]
  },
  {
   "cell_type": "code",
   "execution_count": 13,
   "id": "52176541",
   "metadata": {},
   "outputs": [
    {
     "name": "stdout",
     "output_type": "stream",
     "text": [
      "m_real    m_est\n",
      "1.0       0.9351838754955679\n",
      "1.0       0.9409876721911132\n",
      "1.0       1.0634537810692564\n",
      "1.0       1.0667049676412717\n",
      "0.5       0.6841302603133954\n",
      "0.5       0.6899340522359125\n",
      "1.0       0.8124001625692472\n",
      "1.0       0.8156513477442786\n",
      "0.5       0.43326605125912465\n",
      "0.5       0.43906984449131414\n",
      "0.5       0.5615359546500258\n",
      "0.5       0.5647871390392538\n",
      "0.2       0.13451653555966914\n",
      "0.2       0.14032033050898463\n",
      "0.2       0.2627864396199584\n",
      "0.2       0.26603762432932854\n",
      "\n",
      "\n",
      "Datos observados VS sintéticos \n",
      "\n",
      "d_obs                   d_pred\n",
      "3.9981378128713465       4.006330296397209\n",
      "2.9939230892713216       3.0021158228628337\n",
      "1.9904660032183619       1.9986589894397184\n",
      "0.7954676469579048       0.8036609300179407\n",
      "2.1952901410833023       2.187096722627757\n",
      "2.218505322292151       2.2103118994273245\n",
      "2.7083698839012786       2.7001763379084878\n",
      "2.7213746279539595       2.7131810787541326\n"
     ]
    }
   ],
   "source": [
    "# Formamos la matriz de identidad\n",
    "I = np.zeros((M,M), dtype=float)\n",
    "for i in range(M):\n",
    "    I[i][i] = 1.\n",
    "\n",
    "# epsilon\n",
    "e = 0.001\n",
    "\n",
    "# Calculamos G^T G\n",
    "GT = G.T\n",
    "GTd = np.matmul(GT, d_con_ruido)\n",
    "GTG = np.matmul(GT, G)\n",
    "e2I = e**2.*I\n",
    "GTGe2I = GTG + e2I\n",
    "GTGe2Iinv = np.linalg.inv(GTGe2I)\n",
    "m_est = np.matmul(GTGe2Iinv, GTd)\n",
    "m_est_amor = m_est\n",
    "print('m_real    m_est')\n",
    "for i in range(M):\n",
    "    print(m[i], '     ', m_est[i])\n",
    "\n",
    "print('\\n')\n",
    "print('Datos observados VS sintéticos \\n')\n",
    "d_pred = np.matmul(G, m_est)\n",
    "print('d_obs                   d_pred')\n",
    "for i in range(N):\n",
    "    print(d_con_ruido[i], '     ', d_pred[i])\n"
   ]
  },
  {
   "cell_type": "markdown",
   "id": "6a3016cc",
   "metadata": {},
   "source": [
    "## Comparación de modelos resultantes"
   ]
  },
  {
   "cell_type": "markdown",
   "id": "9e33b731",
   "metadata": {},
   "source": [
    "Es necesario tener herramientas para estimar que \n",
    "tan bueno ha sido un modelo en ajustar tanto los \n",
    "datos como los parámetros del modelo (si estos se conocen).\n",
    "\n",
    "Estas herramientas deben ser objetivas y no depender\n",
    "de la subjetividad del analista.\n",
    "\n",
    "Algunas de las más famosas normas para estimar el \n",
    "ajuste a los datos y modelo son la norma L1 y la norma L2.\n",
    "\n",
    "<img src=\"images/normas.png\" width=\"70%\">\n",
    "\n"
   ]
  },
  {
   "cell_type": "code",
   "execution_count": 18,
   "id": "3415dfe4",
   "metadata": {},
   "outputs": [
    {
     "name": "stderr",
     "output_type": "stream",
     "text": [
      "/tmp/ipykernel_19189/3838932545.py:10: RuntimeWarning: divide by zero encountered in scalar divide\n",
      "  Model_est_0[i][j] = 1/m_est_no_amor[k]\n",
      "/tmp/ipykernel_19189/3838932545.py:16: MatplotlibDeprecationWarning: The get_cmap function was deprecated in Matplotlib 3.7 and will be removed two minor releases later. Use ``matplotlib.colormaps[name]`` or ``matplotlib.colormaps.get_cmap(obj)`` instead.\n",
      "  cmap = plt.cm.get_cmap('jet')\n"
     ]
    },
    {
     "data": {
      "image/png": "[encoded data removed]",
      "text/plain": [
       "<Figure size 640x480 with 5 Axes>"
      ]
     },
     "metadata": {},
     "output_type": "display_data"
    }
   ],
   "source": [
    "Model = np.zeros((4,4), dtype=float)\n",
    "Model_est_0 = np.zeros((4,4), dtype=float)\n",
    "Model_est_1 = np.zeros((4,4), dtype=float)\n",
    "Model_est_2 = np.zeros((4,4), dtype=float)\n",
    "\n",
    "k = 0\n",
    "for i in range(4):\n",
    "    for j in range(4):\n",
    "        Model[i][j] = 1/m[k]\n",
    "        Model_est_0[i][j] = 1/m_est_no_amor[k]\n",
    "        Model_est_1[i][j] = 1/m_est_optim[k]\n",
    "        Model_est_2[i][j] = 1/m_est_amor[k]\n",
    "        k += 1\n",
    "\n",
    "# Color map para ser utilizado\n",
    "cmap = plt.cm.get_cmap('jet')\n",
    "\n",
    "        \n",
    "fig1 = plt.figure(1)\n",
    "fig1.suptitle('Modelos invertidos de tomografía acústica')\n",
    "ax1 = fig1.add_subplot(2, 2, 1)\n",
    "ax1.set_position([0.15, 0.55, 0.3, 0.3])\n",
    "s1 = ax1.pcolor(Model, clim=([1, 5]), edgecolor='black', cmap=cmap)\n",
    "ax1.set_title('Modelo real')\n",
    "ax1.set_ylim(ax1.get_ylim()[::-1])\n",
    "ax1.set_aspect('equal')\n",
    "ax1.set_ylabel('Profundidad (km)')\n",
    "ax1.set_xlabel('Distancia (km)')\n",
    "\n",
    "ax2 = fig1.add_subplot(2, 2, 2)\n",
    "ax2.set_position([0.45, 0.55, 0.3, 0.3])\n",
    "s2 = ax2.pcolor(Model_est_0, clim=([1, 5]), edgecolor='black', cmap=cmap)\n",
    "ax2.set_title('Mín. Caud.')\n",
    "ax2.set_ylim(ax2.get_ylim()[::-1])\n",
    "ax2.set_aspect('equal')\n",
    "ax2.set_xlabel('Distancia (km)')\n",
    "\n",
    "ax3 = fig1.add_subplot(2, 2, 3)\n",
    "ax3.set_position([0.15, 0.1, 0.3, 0.3])\n",
    "s3 = ax3.pcolor(Model_est_1, clim=([1, 5]), edgecolor='black', cmap=cmap)\n",
    "ax3.set_title('Mín. Cuad. Optim.')\n",
    "ax3.set_ylim(ax3.get_ylim()[::-1])\n",
    "ax3.set_aspect('equal')\n",
    "ax3.set_xlabel('Distancia (km)')\n",
    "ax3.set_ylabel('Profundidad (km)')\n",
    "\n",
    "ax4 = fig1.add_subplot(2, 2, 4)\n",
    "ax4.set_position([0.45, 0.1, 0.3, 0.3])\n",
    "s4 = ax4.pcolor(Model_est_2, clim=([1, 5]), edgecolor='black', cmap=cmap)\n",
    "ax4.set_title('Mín. Cuad. Amortiguados')\n",
    "ax4.set_ylim(ax4.get_ylim()[::-1])\n",
    "ax4.set_aspect('equal')\n",
    "ax4.set_xlabel('Distancia (km)')\n",
    "\n",
    "# Colorbar\n",
    "cbaxes = fig1.add_axes([0.78, 0.1, 0.02, 0.75]) \n",
    "cb = fig1.colorbar(s1, ax=ax3, cax=cbaxes, orientation='vertical')\n",
    "cb.set_label('Velocidad onda acustica (km/s)')\n"
   ]
  },
  {
   "cell_type": "code",
   "execution_count": null,
   "id": "35d67d2b",
   "metadata": {},
   "outputs": [],
   "source": []
  },
  {
   "cell_type": "code",
   "execution_count": null,
   "id": "ea141847",
   "metadata": {},
   "outputs": [],
   "source": []
  },
  {
   "cell_type": "code",
   "execution_count": null,
   "id": "22dd62f3",
   "metadata": {},
   "outputs": [],
   "source": []
  },
  {
   "cell_type": "code",
   "execution_count": null,
   "id": "5dc17e82",
   "metadata": {},
   "outputs": [],
   "source": []
  },
  {
   "cell_type": "code",
   "execution_count": 4,
   "id": "9bcbf1e1",
   "metadata": {},
   "outputs": [],
   "source": [
    "def tiempo_de_viaje(xf, zf, xr, zr, vel):\n",
    "    tiempo = []\n",
    "    for i in range(len(xr)):\n",
    "        distancia = np.sqrt((xr[i] - xf)**2. + (zr[i] - zf)**2.)\n",
    "        tiempo.append(distancia / vel)\n",
    "    tiempo = np.asarray(tiempo)\n",
    "    return tiempo\n",
    "\n",
    "def ajuste_norma_l2(t_obs, t_cal):\n",
    "    delta_time = []\n",
    "    for i in range(len(t_obs)):\n",
    "        delta_time.append(t_obs[i] - t_cal[i])\n",
    "    delta_time = np.asarray(delta_time)\n",
    "    ajuste = (1/2) * (np.matmul(delta_time, delta_time.T))\n",
    "    return ajuste"
   ]
  },
  {
   "cell_type": "code",
   "execution_count": 6,
   "id": "638eca25",
   "metadata": {},
   "outputs": [],
   "source": [
    "# Coordenadas de la fuente\n",
    "xf = 0    #km\n",
    "zf = 10   #km\n",
    "\n",
    "#Coordenadas de los receptores\n",
    "xr = [0, 0]\n",
    "zr = [0, 1]\n",
    "\n",
    "#Velocidad del medio\n",
    "vel = 5    #km/s\n",
    "\n",
    "t_obs = [2, 9/5]\n",
    "\n",
    "xf = np.linspace(-10, 10, 3)\n",
    "zf = np.linspace(12, 8, 3)\n",
    "\n",
    "cost_map = np.zeros((len(zf), len(xf)), dtype=float)\n",
    "\n",
    "costo = []\n",
    "i = 0\n",
    "k = 0\n",
    "for x in xf:\n",
    "    j = 0\n",
    "    for z in zf:\n",
    "        time = tiempo_de_viaje(x, z, xr, zr, vel)\n",
    "        c = ajuste_norma_l2(t_obs, time)\n",
    "        costo.append(c)\n",
    "        if k == 1300:\n",
    "            print(c,x,z)\n",
    "        k+=1\n",
    "        cost_map[j][i] = c\n",
    "        j += 1\n",
    "    i += 1"
   ]
  },
  {
   "cell_type": "code",
   "execution_count": 7,
   "id": "56462012",
   "metadata": {},
   "outputs": [
    {
     "name": "stderr",
     "output_type": "stream",
     "text": [
      "/tmp/ipykernel_9987/2090433904.py:13: MatplotlibDeprecationWarning: The get_cmap function was deprecated in Matplotlib 3.7 and will be removed two minor releases later. Use ``matplotlib.colormaps[name]`` or ``matplotlib.colormaps.get_cmap(obj)`` instead.\n",
      "  cmap = plt.cm.get_cmap('cool')\n"
     ]
    },
    {
     "name": "stdout",
     "output_type": "stream",
     "text": [
      "3 3 9\n"
     ]
    },
    {
     "data": {
      "image/png": "[encoded data removed]",
      "text/plain": [
       "<Figure size 640x480 with 3 Axes>"
      ]
     },
     "metadata": {},
     "output_type": "display_data"
    }
   ],
   "source": [
    "fig1 = plt.figure()\n",
    "ax1 = fig1.add_subplot(1, 2, 1, projection='3d')\n",
    "k = 0\n",
    "for x in xf:\n",
    "    for z in zf:\n",
    "        #ax1.scatter(z, x, costo[k], s=0.5, c='black')\n",
    "        k += 1\n",
    "ax1.set_zlabel('Ajuste Norma L2')\n",
    "ax1.set_xlabel('z-funete (km)')\n",
    "ax1.set_ylabel('x-funete (km)')\n",
    "ax1.view_init(elev=0, azim=-90, roll=0)\n",
    "\n",
    "cmap = plt.cm.get_cmap('cool')\n",
    "ax2 = fig1.add_subplot(1, 2, 2)\n",
    "s1 = ax2.pcolor(xf, zf, cost_map, cmap=cmap)\n",
    "cbaxes = fig1.add_axes([0.92, 0.105, 0.02, 0.77]) \n",
    "cb = fig1.colorbar(s1, ax=ax1, cax=cbaxes, orientation='vertical')\n",
    "cb.set_label('Ajuste Norm L2')\n",
    "\n",
    "\n",
    "print(len(xf),len(zf),len(costo))"
   ]
  },
  {
   "cell_type": "code",
   "execution_count": null,
   "id": "a25973f4",
   "metadata": {},
   "outputs": [],
   "source": []
  }
 ],
 "metadata": {
  "kernelspec": {
   "display_name": "Python 3 (ipykernel)",
   "language": "python",
   "name": "python3"
  },
  "language_info": {
   "codemirror_mode": {
    "name": "ipython",
    "version": 3
   },
   "file_extension": ".py",
   "mimetype": "text/x-python",
   "name": "python",
   "nbconvert_exporter": "python",
   "pygments_lexer": "ipython3",
   "version": "3.9.16"
  }
 },
 "nbformat": 4,
 "nbformat_minor": 5
}
