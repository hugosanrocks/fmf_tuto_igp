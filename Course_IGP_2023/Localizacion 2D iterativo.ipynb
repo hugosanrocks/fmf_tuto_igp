{
 "cells": [
  {
   "cell_type": "code",
   "execution_count": 1,
   "id": "52c3e875",
   "metadata": {},
   "outputs": [],
   "source": [
    "# importar las librerias que vamos a usar\n",
    "import numpy as np\n",
    "import matplotlib.pyplot as plt"
   ]
  },
  {
   "cell_type": "markdown",
   "id": "595ab989",
   "metadata": {},
   "source": [
    "Paso 1: Encontrar xf y zf del hipocentro de un sismo a partir de tiempo de viaje entre fuente y receptor.\n",
    "\n",
    "El hipocentro esta entre xf = [-10, 10] km y zf = [12, 8] km."
   ]
  },
  {
   "cell_type": "markdown",
   "id": "30bd6e7f",
   "metadata": {},
   "source": [
    "Paso 2: N datos = 2, M parametros = 2, K = 1 limites de busqueda\n",
    "La ecuación que vincula modelo y datos g(m) = d"
   ]
  },
  {
   "cell_type": "code",
   "execution_count": 2,
   "id": "921497d3",
   "metadata": {},
   "outputs": [],
   "source": [
    "# Definimos la funcion \n",
    "# d = g(m)\n",
    "# d = distancia_fuente-receptor / velocidad_de_propagación\n",
    "\n",
    "# Cálculo del tiempo de viaje \"traveltime\"\n",
    "def tiempo_de_viaje(xf, zf, xr, zr, vel):\n",
    "    # estimación de tiempo de viaje a cada receptor\n",
    "    distancia = np.sqrt((xf - xr)**2. + (zf - zr)**2.)\n",
    "    tiempo = distancia / vel\n",
    "    return tiempo"
   ]
  },
  {
   "cell_type": "markdown",
   "id": "85600b53",
   "metadata": {},
   "source": [
    "Paso 3: Solución de prueba iteración 1"
   ]
  },
  {
   "cell_type": "code",
   "execution_count": null,
   "id": "7833e0d6",
   "metadata": {},
   "outputs": [],
   "source": [
    "# Definimos m^k  de k=1 primera iteración  \n",
    "m_k = np.asarray([1, 11])"
   ]
  },
  {
   "cell_type": "markdown",
   "id": "335429c4",
   "metadata": {},
   "source": [
    "Paso 4: ingredientes: 1) Gradiente, 2) residuales (t_obs - t_cal) = delta_d, delta_m el paso de actualización del modelo"
   ]
  },
  {
   "cell_type": "code",
   "execution_count": 6,
   "id": "3f0013b1",
   "metadata": {},
   "outputs": [],
   "source": [
    "# Estimacion de las derivadas parciales, gradiente, frechet derivatives\n",
    "def gradiente_tiempo_de_viaje(xf, zf, xr, zr, vel, delta):\n",
    "\n",
    "    # Cálculo de derivadas parciales\n",
    "    grad = np.zeros((len(xr), 2), dtype=float)\n",
    " \n",
    "    # para cada renglon de la matriz\n",
    "    for i in range(len(xr)):\n",
    "        # calculo en xf, zf\n",
    "        t_c = tiempo_de_viaje(xf, zf, xr[i], zr[i], vel)\n",
    "        \n",
    "        # con respecto a X\n",
    "        t_delta_x = tiempo_de_viaje(xf+delta, zf, xr[i], zr[i], vel)\n",
    "        #print(t_delta_x, t_c)\n",
    "        derivada_x = (t_delta_x - t_c) / delta\n",
    "        # con respecto a Z\n",
    "        t_delta_z = tiempo_de_viaje(xf, zf+delta, xr[i], zr[i], vel)\n",
    "        #print(t_delta_z, t_c)\n",
    "        derivada_z = (t_delta_z - t_c) / delta\n",
    "\n",
    "        # colocar en la matriz G, osea matriz del gradiente\n",
    "        grad[i][0] = derivada_x\n",
    "        grad[i][1] = derivada_z\n",
    "\n",
    "    return grad\n",
    "\n",
    "# Estimación del ajuste de los datos \n",
    "def delta_d(t_obs, t_cal):\n",
    "    del_d = np.zeros((len(t_cal), 1), dtype=float)\n",
    "    for i in range(len(t_cal)):\n",
    "        del_d[i] = t_obs[i] - t_cal[i]\n",
    "    return del_d\n",
    "\n",
    "# Estimación del ajuste de los datos Norma L2\n",
    "def ajuste_norma_l2(t_obs, t_cal):\n",
    "    delta_time = []\n",
    "    for i in range(len(t_obs)):\n",
    "        delta_time.append(t_obs[i] - t_cal[i])\n",
    "    delta_time = np.asarray(delta_time)\n",
    "    ajuste = (1/2) * (np.matmul(delta_time.T, delta_time))\n",
    "    return ajuste"
   ]
  },
  {
   "cell_type": "markdown",
   "id": "e30cbf41",
   "metadata": {},
   "source": [
    "Paso 6: Actualizar el modelo iterando con las ecuaciones"
   ]
  },
  {
   "cell_type": "code",
   "execution_count": 32,
   "id": "934782cc",
   "metadata": {},
   "outputs": [
    {
     "name": "stdout",
     "output_type": "stream",
     "text": [
      "[ 1 20] k= 0\n",
      "[ 1 20] k =  0 ajuste =  [[3.99010575]]\n",
      "[ 0 10] k =  1 ajuste =  [[0.]]\n"
     ]
    }
   ],
   "source": [
    "# Delta para el calculo de las derivadas parciales\n",
    "delta_dist = 0.1  # km\n",
    "\n",
    "# Definimos velocidad del medio\n",
    "vel = 5   #km/s\n",
    "\n",
    "# Posici'on de los receptores\n",
    "xr = [0, 1]\n",
    "zr = [0, 0]\n",
    "\n",
    "# tiempos de viaje observados a los receptores\n",
    "t_obs = [2.0, 2.009975124224178]\n",
    "\n",
    "# Solucione inicial, iteracion 1\n",
    "#                  xf, zf\n",
    "m_k = np.asarray([1, 20])  #km\n",
    "# vector columna\n",
    "m_k = m_k.T\n",
    "print(m_k,'k=',0)\n",
    "costo = []    # lista del ajuste por iteracion\n",
    "m_i = []      # lista de modelos visitados\n",
    "c = 1         # primer ajuste\n",
    "k = 0         # prieera iteracion\n",
    "tolerancia = 0.00005 # que tan lejos del minimo podemos aceptar\n",
    "# ciclo de mejora del modelo\n",
    "while c > tolerancia:       # mientras el desajuste es grande\n",
    "    # Calcula G\n",
    "    grad_k = gradiente_tiempo_de_viaje(m_k[0], m_k[1], xr, zr, vel, delta_dist)\n",
    "    # Calcula delta d\n",
    "    t_cal = np.zeros((len(xr), 1), dtype=float)\n",
    "    for i in range(len(xr)):\n",
    "        t_cal[i] = tiempo_de_viaje(m_k[0], m_k[1], xr[i], zr[i], vel)\n",
    "    del_d = delta_d(t_obs, t_cal)\n",
    "\n",
    "    # epsilon\n",
    "    epsilon = 0  # peso del amortiguamiento\n",
    "    I = np.eye(2)    # matriz identidad\n",
    "    \n",
    "    # Calcula delta m\n",
    "    GTG = np.matmul(grad_k.T, grad_k)\n",
    "    e2I = epsilon**2.*I\n",
    "    GTGe2I = GTG + e2I\n",
    "    GTGe2Iinv = np.linalg.inv(GTGe2I)\n",
    "    GTd = np.matmul(grad_k.T, del_d)\n",
    "    del_m = np.matmul(GTGe2Iinv, GTd)\n",
    "    \n",
    "    # calculo del ajuste en la iteracion k\n",
    "    c = ajuste_norma_l2(t_obs, t_cal)\n",
    "     \n",
    "    # Guardamos información de cada iteración\n",
    "    costo.append(c[0])\n",
    "    m_i.append(np.copy(m_k))\n",
    "\n",
    "    # Monitoreamos la evolución en cada iteración\n",
    "    print(m_k, 'k = ', k, 'ajuste = ', c)\n",
    "\n",
    "    # Actualizamos el modelo al siguiente paso\n",
    "    #         xf + delta xf\n",
    "    m_k[0] = m_k[0] + del_m[0]\n",
    "    #         zf + delta zf\n",
    "    m_k[1] = m_k[1] + del_m[1]\n",
    "    k += 1    # siguiente iteracion"
   ]
  },
  {
   "cell_type": "code",
   "execution_count": 33,
   "id": "e7777582",
   "metadata": {},
   "outputs": [
    {
     "name": "stderr",
     "output_type": "stream",
     "text": [
      "/tmp/ipykernel_7660/602188193.py:16: UserWarning: You passed a edgecolor/edgecolors ('black') for an unfilled marker ('x').  Matplotlib is ignoring the edgecolor in favor of the facecolor.  This behavior may change in the future.\n",
      "  ax1.scatter(m_i[s_i][0], m_i[s_i][1], 80, marker='x', color='red', edgecolor='black')\n"
     ]
    },
    {
     "name": "stdout",
     "output_type": "stream",
     "text": [
      "[ 1 20]\n",
      "[ 0 10]\n"
     ]
    },
    {
     "data": {
      "image/png": "[encoded data removed]",
      "text/plain": [
       "<Figure size 640x480 with 2 Axes>"
      ]
     },
     "metadata": {},
     "output_type": "display_data"
    }
   ],
   "source": [
    "# Grafiquemos los resultados\n",
    "fig2 = plt.figure(2)\n",
    "\n",
    "fig2.suptitle('Localización 2D por método iterativo')\n",
    "\n",
    "ax1 = fig2.add_subplot(1,2,1)\n",
    "ax1.set_title('Localización de hypocentro 2D')\n",
    "ax1.set_xlabel('Distancia en X (km)')\n",
    "ax1.set_ylabel('Distancia en Y (km)')\n",
    "# Graficando receptores\n",
    "for r_i in range(len(xr)):\n",
    "    ax1.scatter(xr[r_i], zr[r_i], 70, marker='v', color='blue', edgecolor='black')\n",
    "# Graficando el historico de las localizaciones\n",
    "for s_i in range(len(costo)):\n",
    "    if s_i < len(costo)-1:\n",
    "        ax1.scatter(m_i[s_i][0], m_i[s_i][1], 80, marker='x', color='red', edgecolor='black')\n",
    "        print(m_i[s_i])\n",
    "    else:\n",
    "        ax1.scatter(m_i[s_i][0], m_i[s_i][1], 80, marker='*', color='red', edgecolor='black')\n",
    "        print(m_i[s_i])\n",
    "\n",
    "# Labels\n",
    "ax1.grid()\n",
    "ax1.set_ylim(ax1.get_ylim()[::-1])\n",
    "ax1.set_xlim([-10,10])\n",
    "\n",
    "# Graficando el histórico del ajuste\n",
    "ax2 = fig2.add_subplot(1,2,2)\n",
    "ax2.set_title('Función de ajuste')\n",
    "iteracion = np.linspace(0, len(m_i)-1, len(m_i))\n",
    "ax2.plot(iteracion, costo)\n",
    "# labels\n",
    "ax2.set_xlabel('# Iteración')\n",
    "ax2.set_ylabel('Ajuste Norma L2')\n",
    "ax2.grid()"
   ]
  },
  {
   "cell_type": "code",
   "execution_count": 14,
   "id": "175c6f12",
   "metadata": {},
   "outputs": [
    {
     "name": "stdout",
     "output_type": "stream",
     "text": [
      "[array([9.27055623]), array([9.95031033e-05]), array([0.])]\n"
     ]
    }
   ],
   "source": [
    "print(costo)"
   ]
  },
  {
   "cell_type": "code",
   "execution_count": null,
   "id": "82771ce9",
   "metadata": {},
   "outputs": [],
   "source": []
  }
 ],
 "metadata": {
  "kernelspec": {
   "display_name": "Python 3 (ipykernel)",
   "language": "python",
   "name": "python3"
  },
  "language_info": {
   "codemirror_mode": {
    "name": "ipython",
    "version": 3
   },
   "file_extension": ".py",
   "mimetype": "text/x-python",
   "name": "python",
   "nbconvert_exporter": "python",
   "pygments_lexer": "ipython3",
   "version": "3.9.16"
  }
 },
 "nbformat": 4,
 "nbformat_minor": 5
}
