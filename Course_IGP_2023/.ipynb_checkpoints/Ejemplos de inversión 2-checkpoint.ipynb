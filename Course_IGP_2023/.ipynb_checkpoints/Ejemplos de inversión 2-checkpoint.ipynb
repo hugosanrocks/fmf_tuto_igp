{
 "cells": [
  {
   "cell_type": "markdown",
   "id": "811c746c",
   "metadata": {},
   "source": [
    "## Ejemplos de inversión Geofísica"
   ]
  },
  {
   "cell_type": "markdown",
   "id": "3fd08d69",
   "metadata": {},
   "source": [
    "En este notebook veremos un ejemplo de inversión geofísica\n",
    "la \"tomografía acustica\". Este ejemplo nos servirá para \n",
    "explorar los conceptos de problema indeterminado y algunas \n",
    "de las estrategias que pueden usarse para solucionar la \n",
    "inderterminación del problema."
   ]
  },
  {
   "cell_type": "code",
   "execution_count": 4,
   "id": "344f7097",
   "metadata": {},
   "outputs": [],
   "source": [
    "# Importamos las librerias que vamos a usar\n",
    "import numpy as np\n",
    "import matplotlib.pyplot as plt"
   ]
  },
  {
   "cell_type": "markdown",
   "id": "6ef25ba2",
   "metadata": {},
   "source": [
    "## Tomografía acustica 2D"
   ]
  },
  {
   "cell_type": "markdown",
   "id": "3b7f455a",
   "metadata": {},
   "source": [
    "El tiempo de viaje de las ondas acústicas (flechas en la figura) a través de las filas y columnas de una matriz cuadrada de ladrillos se mide con la fuente acústica \"S\" y el receptor \"R\" ubicados en los bordes del cuadrado. El problema inverso consiste en inferir las propiedades acústicas de los ladrillos, representadas aquí por los colores. Aunque el patrón general es variable espacialmente, se asume que los ladrillos individuales son homogéneos en su interior."
   ]
  },
  {
   "cell_type": "markdown",
   "id": "193b53cd",
   "metadata": {},
   "source": [
    "<img src=\"images/tomo_acustica.png\">"
   ]
  },
  {
   "cell_type": "markdown",
   "id": "f0e26a66",
   "metadata": {},
   "source": [
    "Ejemplo 3: La tomografía acustica.\n",
    "\n",
    "Asumiremos que todos los ladrillos tienen el mismo ancho y largo con la medida h = 1."
   ]
  },
  {
   "cell_type": "code",
   "execution_count": 29,
   "id": "6a38bf88",
   "metadata": {},
   "outputs": [
    {
     "name": "stdout",
     "output_type": "stream",
     "text": [
      "[[1. 1. 1. 1. 0. 0. 0. 0. 0. 0. 0. 0. 0. 0. 0. 0.]\n",
      " [0. 0. 0. 0. 1. 1. 1. 1. 0. 0. 0. 0. 0. 0. 0. 0.]\n",
      " [0. 0. 0. 0. 0. 0. 0. 0. 1. 1. 1. 1. 0. 0. 0. 0.]\n",
      " [0. 0. 0. 0. 0. 0. 0. 0. 0. 0. 0. 0. 1. 1. 1. 1.]\n",
      " [1. 0. 0. 0. 1. 0. 0. 0. 1. 0. 0. 0. 1. 0. 0. 0.]\n",
      " [0. 1. 0. 0. 0. 1. 0. 0. 0. 1. 0. 0. 0. 1. 0. 0.]\n",
      " [0. 0. 1. 0. 0. 0. 1. 0. 0. 0. 1. 0. 0. 0. 1. 0.]\n",
      " [0. 0. 0. 1. 0. 0. 0. 1. 0. 0. 0. 1. 0. 0. 0. 1.]]\n"
     ]
    }
   ],
   "source": [
    "# largo y ancho de los ladrillos\n",
    "h = 1\n",
    "\n",
    "# Caso de tomografía acustica\n",
    "N = 8    # número de observaciones\n",
    "M = 16   # número de parámetros del modelo\n",
    "\n",
    "# Construimos la matriz G\n",
    "G = np.zeros((N,M), dtype=float)\n",
    "\n",
    "# formamos la matriz kernel\n",
    "for i in range(4):\n",
    "    for j in range(4):\n",
    "        # medidas en las lineas\n",
    "            k = (i)*4 + j\n",
    "            G[i][k] = h\n",
    "            # medidas en las columnas\n",
    "            k = (j)*4 + i\n",
    "            G[i+4][k] = h\n",
    "print(G)"
   ]
  },
  {
   "cell_type": "code",
   "execution_count": 30,
   "id": "bb81bd5c",
   "metadata": {},
   "outputs": [
    {
     "name": "stdout",
     "output_type": "stream",
     "text": [
      "Tiempos de viaje sin ruido:\n",
      " [4.  3.  2.  0.8 2.2 2.2 2.7 2.7]\n",
      "Tiempos de viaje con ruido:\n",
      " [4.00902202 3.00952379 1.99211481 0.80450165 2.20329441 2.18918245\n",
      " 2.70859345 2.70013678]\n"
     ]
    }
   ],
   "source": [
    "# Demos valores de velocidad de onda acustica a cada ladrillo\n",
    "m = np.asarray([1, 1, 1, 1, 2, 2, 1, 1, 2, 2, 2, 2, 5, 5, 5, 5])\n",
    "# Calculemos la \"lentitud\" = 1 / velocidad\n",
    "m = 1 / m\n",
    "# Vector transpuesto para hacer   d = G m\n",
    "# recuerden que G es 8x16 y m es 16x1 parámetros, d es 8x1 observaciones\n",
    "m = m.T\n",
    "\n",
    "# Medidas reales sin ruido\n",
    "d = np.matmul(G, m)\n",
    "print('Tiempos de viaje sin ruido:\\n', d)\n",
    "# Datos con ruido\n",
    "d_con_ruido = np.zeros(len(d), dtype=float)\n",
    "\n",
    "# Agregaremos ruido para crear medidas más reales\n",
    "for i in range(len(d)):\n",
    "    d_con_ruido[i] = d[i] + np.random.normal(0,0.01)  # 0.01 segundo max desviación\n",
    "print('Tiempos de viaje con ruido:\\n', d_con_ruido)\n"
   ]
  },
  {
   "cell_type": "code",
   "execution_count": null,
   "id": "65294609",
   "metadata": {},
   "outputs": [],
   "source": []
  },
  {
   "cell_type": "markdown",
   "id": "e5c9eb1e",
   "metadata": {},
   "source": [
    "## Solución del problema por mínimos cuadrados"
   ]
  },
  {
   "cell_type": "markdown",
   "id": "a8fee4a6",
   "metadata": {},
   "source": [
    "Recordemos que el sistema\n",
    "d = Gm\n",
    "se puede solucionar con los siguiente pasos\n",
    "\n",
    "G' d = G'G m\n",
    "\n",
    "(G'G)^-1 G' d = (G'G)^-1 (G'G) m\n",
    "\n",
    "(G'G)^-1 G' d = m_est\n",
    "\n",
    "Entonces calculemos lo necesario para resolver este problema"
   ]
  },
  {
   "cell_type": "markdown",
   "id": "9af36955",
   "metadata": {},
   "source": [
    "### Ejemplo con solo dos ladrillos y 3 fuentes-receptores"
   ]
  },
  {
   "cell_type": "code",
   "execution_count": 10,
   "id": "8c5636c3",
   "metadata": {},
   "outputs": [
    {
     "name": "stdout",
     "output_type": "stream",
     "text": [
      "[[1. ]\n",
      " [0.5]] \n",
      " [[1.]\n",
      " [2.]]\n"
     ]
    }
   ],
   "source": [
    "#Construyamos G\n",
    "#longitud de ladrillos\n",
    "h = 1\n",
    "G = np.array([[h, h],[h, 0], [0, h]])\n",
    "d = np.array([[1.5],[1.0],[0.5]])\n",
    "\n",
    "#Resolvemos el problema inverso\n",
    "GT = G.T\n",
    "GTG = np.matmul(GT, G)\n",
    "GTGI = np.linalg.inv(GTG)\n",
    "GTd = np.matmul(GT, d)\n",
    "m_est = np.matmul(GTGI, GTd)\n",
    "print(m_est,'\\n', 1/m_est)"
   ]
  },
  {
   "cell_type": "markdown",
   "id": "bbab29c3",
   "metadata": {},
   "source": [
    "### La varianza de los parametros estimados"
   ]
  },
  {
   "cell_type": "markdown",
   "id": "4d720db0",
   "metadata": {},
   "source": [
    "Los datos invariablemente contienen ruido que provoca errores en las estimaciones de los parámetros del modelo. Podemos calcular cómo este error de medición se traduce en errores en la estimación de \"$m$\" observando que todas las fórmulas derivadas anteriormente para las estimaciones de los parámetros del modelo son funciones lineales de los datos, en la forma $m^{est} = Md + v$, donde $M$ es alguna matriz y $v$ algún vector. Por lo tanto, si asumimos que los datos tienen una distribución caracterizada por alguna matriz de covarianza cov$[d]$, las estimaciones de los parámetros del modelo tienen una distribución caracterizada por una matriz de covarianza $cov[m] = M[cov[d]]M^T$. La covarianza de la solución entonces puede calcularse de manera directa. Si los datos no están correlacionados y tienen igual varianza $\\sigma^2_d$, entonces se obtienen fórmulas muy simples para la covarianza de algunas de las soluciones más simples de problemas inversos.\n",
    "\n",
    "La solución de mínimos cuadrados simple $m^{est} = [G^T G]^{-1} G^T d$ tiene una covarianza:"
   ]
  },
  {
   "cell_type": "markdown",
   "id": "7efa4bf1",
   "metadata": {},
   "source": [
    "$$\n",
    "[cov(m)]= \\left[ [ G^T G]^{-1}G^T\\right]\\sigma^2_d I \\left[ [ G^T G]^{-1}G^T\\right]^T =  \\sigma^2_d I [G^TG]^{-1}\n",
    "$$"
   ]
  },
  {
   "cell_type": "markdown",
   "id": "b47328d2",
   "metadata": {},
   "source": [
    "Un tema importante es cómo obtener una estimación de la varianza de los datos $\\sigma^2_d$ que se pueda usar en esta ecuación. Una posibilidad es basarla en el conocimiento sobre la precisión inherente del proceso de medición, en cuyo caso se denomina una varianza previa. Por ejemplo, si se están midiendo longitudes con una regla con divisiones de 1 mm, la estimación $\\sigma_d = 1/2$ mm sería una aproximación razonable.\n",
    "\n",
    "Otra posibilidad es basar la estimación en la distribución de tamaños de los errores de predicción \"$e$\" determinados al ajustar un modelo a los datos, en cuyo caso se denomina una varianza posterior ($\\sigma$ a posteriori). Una estimación razonable entonces sería:\n",
    "$$\n",
    "\\sigma^2_d = \\frac{1}{N-M}\\sum^N_{i=1} e^2_i\n",
    "$$"
   ]
  },
  {
   "cell_type": "code",
   "execution_count": 19,
   "id": "8098519b",
   "metadata": {},
   "outputs": [
    {
     "name": "stdout",
     "output_type": "stream",
     "text": [
      "[[ 0.00666667 -0.00333333]\n",
      " [-0.00333333  0.00666667]]\n"
     ]
    }
   ],
   "source": [
    "# Para el caso con solo 3 ladrillos\n",
    "# Supongamos que el CENSIS pica los tiempos de arribo con \n",
    "# un error de décimas de segundo\n",
    "# sigma_d = 0.1 segundos\n",
    "# entonces sigma^2_d = 0.01 segundos\n",
    "\n",
    "#entonces la matriz de covarianza del modelo es:\n",
    "I = np.eye(2)   # la identidad\n",
    "sigma_d = 0.1   # segundos\n",
    "sigma2_d = sigma_d**2.\n",
    "\n",
    "s2I = sigma2_d*I\n",
    "covm_est = np.matmul(s2I, GTGI)\n",
    "print(covm_est)\n"
   ]
  },
  {
   "cell_type": "markdown",
   "id": "cb19fdeb",
   "metadata": {},
   "source": [
    "¿Qué significa esto?\n",
    "\n",
    "¿Qué son los términos de esta matriz?\n",
    "\n",
    "¿Cómo podrían aterrizar estos valores con respecto a los parámetros obtenidos?"
   ]
  },
  {
   "cell_type": "code",
   "execution_count": 20,
   "id": "d5a66c54",
   "metadata": {},
   "outputs": [
    {
     "name": "stdout",
     "output_type": "stream",
     "text": [
      "[[1. ]\n",
      " [0.5]]\n",
      "[[1.06666667]\n",
      " [0.36666667]]\n"
     ]
    }
   ],
   "source": [
    "# ruido de 0.1 s\n",
    "d = np.array([[1.5], [1.0], [0.5]])  #tiempos sin ruido\n",
    "d_con_ruido = np.array([[1.4], [1.1], [0.4]])  #tiempos con ruido\n",
    "\n",
    "# para datos con ruido\n",
    "GTd_con_ruido = np.matmul(GT, d_con_ruido)\n",
    "\n",
    "# resolver el sistema\n",
    "m_est = np.matmul(GTGI, GTd)\n",
    "m_est_con_ruido = np.matmul(GTGI, GTd_con_ruido)\n",
    "\n",
    "print(m_est)\n",
    "print(m_est_con_ruido)"
   ]
  },
  {
   "cell_type": "markdown",
   "id": "1a0d743f",
   "metadata": {},
   "source": [
    "## Ejemplo con 8 fuentes-receptores"
   ]
  },
  {
   "cell_type": "code",
   "execution_count": 26,
   "id": "eaf02526",
   "metadata": {},
   "outputs": [
    {
     "name": "stdout",
     "output_type": "stream",
     "text": [
      "m_real    m_est\n",
      "1.0       64.0\n",
      "1.0       -18.0\n",
      "1.0       -23.0\n",
      "1.0       -1.0\n",
      "0.5       -76.0\n",
      "0.5       -16.0\n",
      "1.0       -7.0\n",
      "1.0       56.0\n",
      "0.5       -10.0\n",
      "0.5       8.0\n",
      "0.5       -3.0\n",
      "0.5       -1.5\n",
      "0.2       12.0\n",
      "0.2       8.0\n",
      "0.2       6.0\n",
      "0.2       0.0\n",
      "\n",
      "\n",
      "Datos observados VS sintéticos \n",
      "\n",
      "d_obs                   d_pred\n",
      "4.007584941607261       22.0\n",
      "3.0046383632113844       -43.0\n",
      "2.0053646319301572       -6.5\n",
      "0.8009065223163393       26.0\n",
      "2.186774635642814       -10.0\n",
      "2.2015288080681317       -18.0\n",
      "2.6780031104534454       -27.0\n",
      "2.697343264663481       53.5\n"
     ]
    }
   ],
   "source": [
    "# Calculamos G^T G\n",
    "GT = G.T\n",
    "GTd = np.matmul(GT, d_con_ruido)\n",
    "GTG = np.matmul(GT, G)\n",
    "GTGinv = np.linalg.inv(GTG)\n",
    "m_est = np.matmul(GTGinv, GTd)\n",
    "m_est_no_amor = m_est\n",
    "print('m_real    m_est')\n",
    "for i in range(M):\n",
    "    print(m[i], '     ', m_est[i])\n",
    "\n",
    "print('\\n')\n",
    "print('Datos observados VS sintéticos \\n')\n",
    "d_pred = np.matmul(G, m_est)\n",
    "print('d_obs                   d_pred')\n",
    "for i in range(N):\n",
    "    print(d_con_ruido[i], '     ', d_pred[i])\n"
   ]
  },
  {
   "cell_type": "markdown",
   "id": "237d05e7",
   "metadata": {},
   "source": [
    "¿Qué sucedió? \n",
    "\n",
    "¿Por qué no resolvimos el problema como en el caso anterior?\n",
    "\n",
    "¿Alguna idea?"
   ]
  },
  {
   "cell_type": "markdown",
   "id": "3dfec372",
   "metadata": {},
   "source": [
    "Problemas Indeterminados:\n",
    "\n",
    "Cuando la ecuación $d = Gm$ no proporciona suficiente información para determinar de manera única todos los parámetros del modelo \"$m$\", se dice que el problema es indeterminado. Como vimos anteriormente, es decir los \"$N$\" datos son menos que las \"$M$\" incógnitas.\n",
    "\n",
    "Por ejemplo, esto puede ocurrir si hay varias soluciones que tienen un error de predicción igual a cero. A partir del álgebra lineal elemental, sabemos que los problemas indeterminados ocurren cuando hay más incógnitas que datos, es decir, cuando M > N. \n",
    "\n",
    "En este caso $M = 16$ y $N = 8$. Por lo tanto $M > N$\n",
    "\n",
    "Sin embargo, debemos tener en cuenta que no hay ninguna razón especial por la cual el error de predicción deba ser cero para un problema indeterminado. Frecuentemente, los datos determinan de manera única algunos de los parámetros del modelo pero no otros. Por ejemplo, consideremos el experimento acústico. Dado que no se realizan mediciones de la lentitud acústica en el quinto ladrillo dado el primer rayo, es evidente que este parámetro del modelo está completamente sin restricciones por los datos del primer rayo.\n",
    "\n",
    "Si uno intentara resolver este problema con mínimos cuadrados, encontraría que el término $(G T G)^-1$ se indetermina ya que el núcleo de datos tiene una estructura muy deficiente. Aunque este es un caso bastante trivial en el que solo algunos de los parámetros del modelo son indeterminados, en experimentos realistas, el problema surge en formas más sutiles."
   ]
  },
  {
   "cell_type": "markdown",
   "id": "cb9f7a39",
   "metadata": {},
   "source": [
    "## Aproximación por mínimos cuadrados - problema de optimización"
   ]
  },
  {
   "cell_type": "markdown",
   "id": "7ee2224c",
   "metadata": {},
   "source": [
    "<img src=\"images/solucion_2.png\">"
   ]
  },
  {
   "cell_type": "markdown",
   "id": "98c6b0a7",
   "metadata": {},
   "source": [
    "Y la matriz de covarianza de los parámetros del modelo para este caso de mínimos cuadrados es:\n",
    "$$\n",
    "[cov(m)]= \\left[ G^T[GG^T]^{-1} \\right] \\sigma^2_d I  \\left[ G^T[GG^T]^{-1} \\right]^T = \\sigma^2_d G^T[GG^T]^{-2}G\n",
    "$$"
   ]
  },
  {
   "cell_type": "markdown",
   "id": "64b888a0",
   "metadata": {},
   "source": [
    "Hagamos la demostración paso a paso:\n",
    "\n",
    "De la aplicación de los multiplicadores de lagrange y el proceso de optimización obtuvimos que:\n",
    "\n",
    "$$\n",
    "2m = G^T \\lambda\n",
    "$$\n",
    "y sabemos que\n",
    "$$\n",
    "d = Gm\n",
    "$$\n",
    "entonces\n",
    "$$\n",
    "d = Gm = G(G^T\\lambda/2)\n",
    "$$\n",
    "\n",
    "De aquí podemos darnos cuenta que la matríz $G^TG$ es cuadrada ($NXN$). Si esta matríz tiene una inversa, entonces podemos solucionar esta ecuación sabiendo que el multiplicador de lagrange es $\\lambda=2(GG^T)^{-1}d$. Entonces sustituyendo esta expresión en la ecuación $2m=G^T\\lambda$: \n",
    "\n",
    "$$\n",
    "m^{est} = G^T[GG^T]^{-1}d\n",
    "$$"
   ]
  },
  {
   "cell_type": "markdown",
   "id": "47ef027c",
   "metadata": {},
   "source": [
    "Comprobemos si esta nueva aproximación soluciona el problema"
   ]
  },
  {
   "cell_type": "code",
   "execution_count": 33,
   "id": "9e799268",
   "metadata": {},
   "outputs": [
    {
     "name": "stdout",
     "output_type": "stream",
     "text": [
      "m_real    m_est\n",
      "1.0       1.21556200917389\n",
      "1.0       1.1488520403245206\n",
      "1.0       1.0015681919210813\n",
      "1.0       1.0011984199614428\n",
      "0.5       0.9656874535727051\n",
      "0.5       0.8989774847233358\n",
      "1.0       0.7516936363198965\n",
      "1.0       0.7513238643602582\n",
      "0.5       0.7113352065114278\n",
      "0.5       0.6446252376620585\n",
      "0.5       0.4973413892586193\n",
      "0.5       0.4969716172989808\n",
      "0.2       0.4144319183636027\n",
      "0.2       0.34772194951423335\n",
      "0.2       0.2004381011107942\n",
      "0.2       0.2000683291511557\n",
      "\n",
      "\n",
      "Datos observados VS sintéticos \n",
      "\n",
      "d_obs                   d_pred\n",
      "4.00902201641845       4.367180661380934\n",
      "3.009523794013711       3.3676824389761957\n",
      "1.9921148057686018       2.3502734507310867\n",
      "0.8045016531773014       1.162660298139786\n",
      "2.203294411000002       3.307016587621625\n",
      "2.1891824517275285       3.0401767122241483\n",
      "2.708593454591142       2.451041318610391\n",
      "2.700136781445785       2.4495622307718374\n"
     ]
    }
   ],
   "source": [
    "GGT = np.matmul(G, GT)\n",
    "GGTinv = np.linalg.inv(GGT)\n",
    "m_est = np.matmul(np.matmul(GT, GGTinv), d_con_ruido)\n",
    "m_est_optim = m_est\n",
    "print('m_real    m_est')\n",
    "for i in range(M):\n",
    "    print(m[i], '     ', m_est[i])\n",
    "\n",
    "print('\\n')\n",
    "print('Datos observados VS sintéticos \\n')\n",
    "d_pred = np.matmul(G, m_est)\n",
    "print('d_obs                   d_pred')\n",
    "for i in range(N):\n",
    "    print(d_con_ruido[i], '     ', d_pred[i])"
   ]
  },
  {
   "cell_type": "markdown",
   "id": "52143e7a",
   "metadata": {},
   "source": [
    "## Aproximación - solución por partes"
   ]
  },
  {
   "cell_type": "markdown",
   "id": "c1b4bf50",
   "metadata": {},
   "source": [
    "La mayoría de los problemas inversos que surgen en la práctica no son ni completamente sobredeterminados ni completamente indeterminados. Por ejemplo, en el problema de tomografía de rayos, pueden haber ladrillos por los cuales pasan varios rayos. La opacidad de rayos en algunos ladrillos está claramente sobredeterminada. Por otro lado, puede haber ladrillos que han sido completamente omitidos. Estos ladrillos son completamente indeterminados. También puede haber ladrillos que no pueden ser resueltas individualmente porque cada rayo que atraviesa uno también atraviesa la misma distancia del otro. Estos ladrillos también están indeterminados, ya que solo se determina su opacidad promedio."
   ]
  },
  {
   "cell_type": "markdown",
   "id": "d3751a00",
   "metadata": {},
   "source": [
    "<img src=\"images/solucion_dividida.png\">"
   ]
  },
  {
   "cell_type": "markdown",
   "id": "0da62207",
   "metadata": {},
   "source": [
    "## Aproximación mínimos cuadrados amortiguados"
   ]
  },
  {
   "cell_type": "markdown",
   "id": "0752b48f",
   "metadata": {},
   "source": [
    "<img src=\"images/solucion_amortiguada.png\">"
   ]
  },
  {
   "cell_type": "code",
   "execution_count": 38,
   "id": "52176541",
   "metadata": {},
   "outputs": [
    {
     "name": "stdout",
     "output_type": "stream",
     "text": [
      "m_real    m_est\n",
      "1.0       0.9400517253579892\n",
      "1.0       0.936523823733296\n",
      "1.0       1.066373328219015\n",
      "1.0       1.0642592127796888\n",
      "0.5       0.6901834164518732\n",
      "0.5       0.6866555148430962\n",
      "1.0       0.8165050193174466\n",
      "1.0       0.8143909038940365\n",
      "0.5       0.43583752805034237\n",
      "0.5       0.43230962642837767\n",
      "0.5       0.562159130908185\n",
      "0.5       0.560045015462947\n",
      "0.2       0.1389416623114812\n",
      "0.2       0.1354137606722361\n",
      "0.2       0.2652632651570457\n",
      "0.2       0.26314914972499537\n",
      "\n",
      "\n",
      "Datos observados VS sintéticos \n",
      "\n",
      "d_obs                   d_pred\n",
      "4.00902201641845       4.007208090089989\n",
      "3.009523794013711       3.0077348545064524\n",
      "1.9921148057686018       1.9903513008498521\n",
      "0.8045016531773014       0.8027678378657583\n",
      "2.203294411000002       2.205014332171686\n",
      "2.1891824517275285       2.190902725677006\n",
      "2.708593454591142       2.7103007436016924\n",
      "2.700136781445785       2.7018442818616677\n"
     ]
    }
   ],
   "source": [
    "# Formamos la matriz de identidad\n",
    "I = np.eye(M)\n",
    "\n",
    "# epsilon\n",
    "e = 0.01\n",
    "\n",
    "# Calculamos G^T G\n",
    "GT = G.T\n",
    "GTd = np.matmul(GT, d_con_ruido)\n",
    "GTG = np.matmul(GT, G)\n",
    "e2I = e**2.*I\n",
    "GTGe2I = GTG + e2I\n",
    "GTGe2Iinv = np.linalg.inv(GTGe2I)\n",
    "m_est = np.matmul(GTGe2Iinv, GTd)\n",
    "m_est_amor = m_est\n",
    "print('m_real    m_est')\n",
    "for i in range(M):\n",
    "    print(m[i], '     ', m_est[i])\n",
    "\n",
    "print('\\n')\n",
    "print('Datos observados VS sintéticos \\n')\n",
    "d_pred = np.matmul(G, m_est)\n",
    "print('d_obs                   d_pred')\n",
    "for i in range(N):\n",
    "    print(d_con_ruido[i], '     ', d_pred[i])\n"
   ]
  },
  {
   "cell_type": "code",
   "execution_count": 55,
   "id": "852a9eaf",
   "metadata": {},
   "outputs": [
    {
     "name": "stdout",
     "output_type": "stream",
     "text": [
      "m_real    m_est\n",
      "1.0       0.8890632120892406\n",
      "1.0       0.8890632120892406\n",
      "1.0       0.8890632120892406\n",
      "1.0       1.3418314915616065\n",
      "0.5       0.0\n",
      "0.5       0.0\n",
      "1.0       0.0\n",
      "1.0       0.452768279472366\n",
      "0.5       0.0\n",
      "0.5       0.0\n",
      "0.5       0.0\n",
      "0.5       0.45276827889028937\n",
      "0.2       0.0\n",
      "0.2       0.0\n",
      "0.2       0.0\n",
      "0.2       0.45276827923953533\n",
      "\n",
      "\n",
      "Datos observados VS sintéticos \n",
      "\n",
      "d_obs                   d_pred\n",
      "4.00902201641845       4.009021127829328\n",
      "3.009523794013711       0.452768279472366\n",
      "1.9921148057686018       0.45276827889028937\n",
      "0.8045016531773014       0.45276827923953533\n",
      "2.203294411000002       0.8890632120892406\n",
      "2.1891824517275285       0.8890632120892406\n",
      "2.708593454591142       0.8890632120892406\n",
      "2.700136781445785       2.700136329163797\n"
     ]
    }
   ],
   "source": [
    "# Minimos cuadrados pesados\n",
    "# El peso se define por cada dato\n",
    "\n",
    "W = np.zeros((N, N), dtype=float)\n",
    "W[0][0] = 100.\n",
    "W[1][1] = 0.\n",
    "W[2][2] = 0.\n",
    "W[3][3] = 0.\n",
    "W[4][4] = 0.\n",
    "W[5][5] = 0.\n",
    "W[6][6] = 0.\n",
    "W[7][7] = 100.\n",
    "GTW = np.matmul(GT, W)\n",
    "GTWG = np.matmul(GTW, G)\n",
    "GTWGI = np.linalg.inv(GTWG + e2I)\n",
    "GTWd = np.matmul(GTW, d_con_ruido)\n",
    "m_est = np.matmul(GTWGI, GTWd)\n",
    "m_est_pesado = m_est\n",
    "print('m_real    m_est')\n",
    "for i in range(M):\n",
    "    print(m[i], '     ', m_est[i])\n",
    "\n",
    "print('\\n')\n",
    "print('Datos observados VS sintéticos \\n')\n",
    "d_pred = np.matmul(G, m_est)\n",
    "print('d_obs                   d_pred')\n",
    "for i in range(N):\n",
    "    print(d_con_ruido[i], '     ', d_pred[i])\n"
   ]
  },
  {
   "cell_type": "markdown",
   "id": "6a3016cc",
   "metadata": {},
   "source": [
    "## Comparación de modelos resultantes"
   ]
  },
  {
   "cell_type": "markdown",
   "id": "9e33b731",
   "metadata": {},
   "source": [
    "Es necesario tener herramientas para estimar que \n",
    "tan bueno ha sido un modelo en ajustar tanto los \n",
    "datos como los parámetros del modelo (si estos se conocen).\n",
    "\n",
    "Estas herramientas deben ser objetivas y no depender\n",
    "de la subjetividad del analista.\n",
    "\n",
    "Algunas de las más famosas normas para estimar el \n",
    "ajuste a los datos y modelo son la norma L1 y la norma L2.\n",
    "\n",
    "<img src=\"images/normas.png\" width=\"70%\">\n",
    "\n"
   ]
  },
  {
   "cell_type": "code",
   "execution_count": 41,
   "id": "3415dfe4",
   "metadata": {},
   "outputs": [
    {
     "name": "stderr",
     "output_type": "stream",
     "text": [
      "/tmp/ipykernel_19819/3838932545.py:10: RuntimeWarning: divide by zero encountered in scalar divide\n",
      "  Model_est_0[i][j] = 1/m_est_no_amor[k]\n",
      "/tmp/ipykernel_19819/3838932545.py:16: MatplotlibDeprecationWarning: The get_cmap function was deprecated in Matplotlib 3.7 and will be removed two minor releases later. Use ``matplotlib.colormaps[name]`` or ``matplotlib.colormaps.get_cmap(obj)`` instead.\n",
      "  cmap = plt.cm.get_cmap('jet')\n"
     ]
    },
    {
     "data": {
      "image/png": "[encoded data removed]",
      "text/plain": [
       "<Figure size 640x480 with 5 Axes>"
      ]
     },
     "metadata": {},
     "output_type": "display_data"
    }
   ],
   "source": [
    "Model = np.zeros((4,4), dtype=float)\n",
    "Model_est_0 = np.zeros((4,4), dtype=float)\n",
    "Model_est_1 = np.zeros((4,4), dtype=float)\n",
    "Model_est_2 = np.zeros((4,4), dtype=float)\n",
    "\n",
    "k = 0\n",
    "for i in range(4):\n",
    "    for j in range(4):\n",
    "        Model[i][j] = 1/m[k]\n",
    "        Model_est_0[i][j] = 1/m_est_no_amor[k]\n",
    "        Model_est_1[i][j] = 1/m_est_optim[k]\n",
    "        Model_est_2[i][j] = 1/m_est_amor[k]\n",
    "        k += 1\n",
    "\n",
    "# Color map para ser utilizado\n",
    "cmap = plt.cm.get_cmap('jet')\n",
    "\n",
    "        \n",
    "fig1 = plt.figure(1)\n",
    "fig1.suptitle('Modelos invertidos de tomografía acústica')\n",
    "ax1 = fig1.add_subplot(2, 2, 1)\n",
    "ax1.set_position([0.15, 0.55, 0.3, 0.3])\n",
    "s1 = ax1.pcolor(Model, clim=([1, 5]), edgecolor='black', cmap=cmap)\n",
    "ax1.set_title('Modelo real')\n",
    "ax1.set_ylim(ax1.get_ylim()[::-1])\n",
    "ax1.set_aspect('equal')\n",
    "ax1.set_ylabel('Profundidad (km)')\n",
    "ax1.set_xlabel('Distancia (km)')\n",
    "\n",
    "ax2 = fig1.add_subplot(2, 2, 2)\n",
    "ax2.set_position([0.45, 0.55, 0.3, 0.3])\n",
    "s2 = ax2.pcolor(Model_est_0, clim=([1, 5]), edgecolor='black', cmap=cmap)\n",
    "ax2.set_title('Mín. Caud.')\n",
    "ax2.set_ylim(ax2.get_ylim()[::-1])\n",
    "ax2.set_aspect('equal')\n",
    "ax2.set_xlabel('Distancia (km)')\n",
    "\n",
    "ax3 = fig1.add_subplot(2, 2, 3)\n",
    "ax3.set_position([0.15, 0.1, 0.3, 0.3])\n",
    "s3 = ax3.pcolor(Model_est_1, clim=([1, 5]), edgecolor='black', cmap=cmap)\n",
    "ax3.set_title('Mín. Cuad. Optim.')\n",
    "ax3.set_ylim(ax3.get_ylim()[::-1])\n",
    "ax3.set_aspect('equal')\n",
    "ax3.set_xlabel('Distancia (km)')\n",
    "ax3.set_ylabel('Profundidad (km)')\n",
    "\n",
    "ax4 = fig1.add_subplot(2, 2, 4)\n",
    "ax4.set_position([0.45, 0.1, 0.3, 0.3])\n",
    "s4 = ax4.pcolor(Model_est_2, clim=([1, 5]), edgecolor='black', cmap=cmap)\n",
    "ax4.set_title('Mín. Cuad. Amortiguados')\n",
    "ax4.set_ylim(ax4.get_ylim()[::-1])\n",
    "ax4.set_aspect('equal')\n",
    "ax4.set_xlabel('Distancia (km)')\n",
    "\n",
    "# Colorbar\n",
    "cbaxes = fig1.add_axes([0.78, 0.1, 0.02, 0.75]) \n",
    "cb = fig1.colorbar(s1, ax=ax3, cax=cbaxes, orientation='vertical')\n",
    "cb.set_label('Velocidad onda acustica (km/s)')\n"
   ]
  },
  {
   "cell_type": "code",
   "execution_count": null,
   "id": "35d67d2b",
   "metadata": {},
   "outputs": [],
   "source": []
  },
  {
   "cell_type": "code",
   "execution_count": null,
   "id": "ea141847",
   "metadata": {},
   "outputs": [],
   "source": []
  },
  {
   "cell_type": "code",
   "execution_count": null,
   "id": "22dd62f3",
   "metadata": {},
   "outputs": [],
   "source": []
  },
  {
   "cell_type": "code",
   "execution_count": null,
   "id": "5dc17e82",
   "metadata": {},
   "outputs": [],
   "source": []
  },
  {
   "cell_type": "code",
   "execution_count": null,
   "id": "a25973f4",
   "metadata": {},
   "outputs": [],
   "source": []
  }
 ],
 "metadata": {
  "kernelspec": {
   "display_name": "Python 3 (ipykernel)",
   "language": "python",
   "name": "python3"
  },
  "language_info": {
   "codemirror_mode": {
    "name": "ipython",
    "version": 3
   },
   "file_extension": ".py",
   "mimetype": "text/x-python",
   "name": "python",
   "nbconvert_exporter": "python",
   "pygments_lexer": "ipython3",
   "version": "3.9.16"
  }
 },
 "nbformat": 4,
 "nbformat_minor": 5
}
