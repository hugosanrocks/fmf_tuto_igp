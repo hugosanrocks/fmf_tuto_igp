{
 "cells": [
  {
   "cell_type": "markdown",
   "id": "82d34d77",
   "metadata": {},
   "source": [
    "## Problemas no-lineales"
   ]
  },
  {
   "cell_type": "markdown",
   "id": "060f9fde",
   "metadata": {},
   "source": [
    "<img src=\"images/nonlinear.png\">"
   ]
  },
  {
   "cell_type": "markdown",
   "id": "81719bdd",
   "metadata": {},
   "source": [
    "Por esos motivos debemos de cierta forma linearlizar el problema.\n",
    "\n",
    "Esto se puede hacer ya sea cambiando de parametrización ... \n",
    "describiendo el problema con otros parámetros o atacando el problema\n",
    "linearizandolo localmente."
   ]
  },
  {
   "cell_type": "markdown",
   "id": "66d652a0",
   "metadata": {},
   "source": [
    "# Método de mínimos cuadrados no-lineales"
   ]
  },
  {
   "cell_type": "markdown",
   "id": "0f0a0766",
   "metadata": {},
   "source": [
    "Paso 1: Establece el problema en palabras claras\n",
    "- ¿Cómo están relacionados los datos con el modelo?\n",
    "- ¿Qué información previa es aplicable?"
   ]
  },
  {
   "cell_type": "markdown",
   "id": "d872bd42",
   "metadata": {},
   "source": [
    "Paso 2: Organizar el problema en forma estándar\n",
    "\n",
    "N-datos, M-parámetros del modelo, K-piezas de información.\n",
    "La ecuación nolineal que relaciona los datos y los parámetros \n",
    "\n",
    "g(m) = d \n",
    "\n",
    "y, si es posible, la ecuación de información apriori \n",
    "\n",
    "Hm = h"
   ]
  },
  {
   "cell_type": "markdown",
   "id": "6b587645",
   "metadata": {},
   "source": [
    "Paso 3: Decide una solución de prueba razonable\n",
    "\n",
    "Solución de prueba: m (iter=1) para iteración #1"
   ]
  },
  {
   "cell_type": "markdown",
   "id": "36c81abc",
   "metadata": {},
   "source": [
    "Paso 4: Linealiza la ecuación de datos\n",
    "\n",
    "$$\n",
    "  \\left\\{\\begin{array}{@{}l@{}}\n",
    "    G^{(k)} \\Delta m^{(k)} = \\Delta d^{(k)} \\\\\n",
    "    H \\Delta m^{(k)} = \\Delta h^{(k)}\n",
    "        \\end{array}\\right.\\,.\n",
    "$$\n",
    "\n",
    "sabiendo que\n",
    "\n",
    "$$\n",
    "G_{ij} = \\frac{\\partial g_i}{\\partial m_j} \\bigg|_{m^{(k)}}\n",
    "$$\n",
    "\n",
    "$$\n",
    "\\Delta d^{(k)} = d^{obs} - g(m^{(k)})\n",
    "$$\n",
    "\n",
    "y\n",
    "\n",
    "$$\n",
    "\\Delta h^{(k)} = h^{pri} - Hm^{(k)}\n",
    "$$"
   ]
  },
  {
   "cell_type": "markdown",
   "id": "2dc794da",
   "metadata": {},
   "source": [
    "Paso 6: Mejora la solución actual iterando de la siguiente forma\n",
    "\n",
    "$$\n",
    "\\Delta m^{(k)} = (G^{(k)T} G^{(k)})^{-1} G^{(k)T} \\Delta d^{(k)}\n",
    "$$\n",
    "y\n",
    "$$\n",
    "m^{(k+1)} = m^{(k)} + \\Delta m^{(k)}\n",
    "$$\n",
    "sin olvidar que $$G^{(k)}$$ debe recalcularse a cada nueva iteración $$k$$"
   ]
  },
  {
   "cell_type": "markdown",
   "id": "31fbe0f7",
   "metadata": {},
   "source": [
    "Paso 8: Examine los resultados, sin olvidar que esto es sólo una aproximación."
   ]
  },
  {
   "cell_type": "code",
   "execution_count": null,
   "id": "156211ff",
   "metadata": {},
   "outputs": [],
   "source": []
  },
  {
   "cell_type": "code",
   "execution_count": null,
   "id": "e718b94a",
   "metadata": {},
   "outputs": [],
   "source": []
  },
  {
   "cell_type": "code",
   "execution_count": null,
   "id": "066ebfdd",
   "metadata": {},
   "outputs": [],
   "source": []
  },
  {
   "cell_type": "markdown",
   "id": "80d4424d",
   "metadata": {},
   "source": [
    "## Ejemplo: Localización de sismos en 2D"
   ]
  },
  {
   "cell_type": "code",
   "execution_count": 1,
   "id": "a96eac07",
   "metadata": {},
   "outputs": [],
   "source": [
    "# importar las librerias que vamos a usar\n",
    "import numpy as np\n",
    "import matplotlib.pyplot as plt"
   ]
  },
  {
   "cell_type": "code",
   "execution_count": 2,
   "id": "72ef6a60",
   "metadata": {},
   "outputs": [],
   "source": [
    "# Definimos la funcion \n",
    "\n",
    "# d = g(m)\n",
    "# d = distancia_fuente-receptor / velocidad_de_propagación\n",
    "\n",
    "# Cálculo del tiempo de viaje \"traveltime\"\n",
    "def tiempo_de_viaje(xf, zf, xr, zr, vel):\n",
    "    # estimación de tiempo de viaje a cada receptor\n",
    "    distancia = np.sqrt((xf - xr)**2. + (zf - zr)**2.)\n",
    "    tiempo = distancia / vel\n",
    "    return tiempo\n",
    "\n",
    "# Estimación del ajuste de los datos Norma L2\n",
    "def ajuste_norma_l2(t_obs, t_cal):\n",
    "    delta_time = []\n",
    "    for i in range(len(t_obs)):\n",
    "        delta_time.append(t_obs[i] - t_cal[i])\n",
    "    delta_time = np.asarray(delta_time)\n",
    "    ajuste = (1/2) * (np.matmul(delta_time.T, delta_time))\n",
    "    return ajuste\n"
   ]
  },
  {
   "cell_type": "code",
   "execution_count": 5,
   "id": "6814667e",
   "metadata": {},
   "outputs": [],
   "source": [
    "# Datos de inicio\n",
    "\n",
    "# Coordenadas reales de la fuente\n",
    "xf = 0    #km\n",
    "zf = 10   #km\n",
    "\n",
    "#Coordenadas de los receptores\n",
    "xr = [0, 1]\n",
    "zr = [0, 0]\n",
    "\n",
    "# Velocidad del medio\n",
    "vel = 5    #km/s\n",
    "\n",
    "# Tiempo de viaje observado\n",
    "t_obs = [2, 2.009975124224178]#, 1.8867962264113207]"
   ]
  },
  {
   "cell_type": "markdown",
   "id": "9f875815",
   "metadata": {},
   "source": [
    "## Grid search"
   ]
  },
  {
   "cell_type": "code",
   "execution_count": 6,
   "id": "66ffeda1",
   "metadata": {},
   "outputs": [
    {
     "name": "stderr",
     "output_type": "stream",
     "text": [
      "/tmp/ipykernel_9963/926913030.py:39: MatplotlibDeprecationWarning: The get_cmap function was deprecated in Matplotlib 3.7 and will be removed two minor releases later. Use ``matplotlib.colormaps[name]`` or ``matplotlib.colormaps.get_cmap(obj)`` instead.\n",
      "  cmap = plt.cm.get_cmap('jet')\n"
     ]
    },
    {
     "data": {
      "image/png": "[encoded data removed]",
      "text/plain": [
       "<Figure size 640x480 with 3 Axes>"
      ]
     },
     "metadata": {},
     "output_type": "display_data"
    }
   ],
   "source": [
    "# Define el espacio de busqueda y el delta\n",
    "xf = np.linspace(-10, 10, 23)\n",
    "zf = np.linspace(12, 8, 23)\n",
    "\n",
    "cost_map = np.zeros((len(zf), len(xf)), dtype=float)\n",
    "\n",
    "costo = []\n",
    "i = 0\n",
    "k = 0\n",
    "for x in xf:\n",
    "    j = 0\n",
    "    for z in zf:\n",
    "        time = tiempo_de_viaje(x, z, xr, zr, vel)\n",
    "        c = ajuste_norma_l2(t_obs, time)\n",
    "        costo.append(c)\n",
    "        if k == 1300:\n",
    "            print(c,x,z)\n",
    "        k+=1\n",
    "        cost_map[j][i] = c\n",
    "        j += 1\n",
    "    i += 1\n",
    "    \n",
    "# Gráfica de los resultados\n",
    "X, Z = np.meshgrid(xf, zf)\n",
    "\n",
    "fig1 = plt.figure()\n",
    "ax1 = fig1.add_subplot(1, 2, 1, projection='3d')\n",
    "k = 0\n",
    "for x in xf:\n",
    "    for z in zf:\n",
    "        ax1.scatter(z, x, costo[k], s=0.5, c='black')\n",
    "        k += 1\n",
    "s1 = ax1.plot_surface(Z, X, cost_map, cmap=plt.cm.jet,                   linewidth=0, antialiased=False)\n",
    "ax1.set_zlabel('Ajuste Norma L2')\n",
    "ax1.set_xlabel('z-fuente (km)')\n",
    "ax1.set_ylabel('x-fuente (km)')\n",
    "ax1.view_init(elev=0, azim=0, roll=0)\n",
    "\n",
    "cmap = plt.cm.get_cmap('jet')\n",
    "ax2 = fig1.add_subplot(1, 2, 2)\n",
    "s2 = ax2.pcolor(xf, zf, cost_map, cmap=cmap)\n",
    "ax2.set_ylim(ax2.get_ylim()[::-1])\n",
    "cbaxes = fig1.add_axes([0.92, 0.105, 0.02, 0.77]) \n",
    "cb = fig1.colorbar(s2, ax=ax2, cax=cbaxes, orientation='vertical')\n",
    "cb.set_label('Ajuste Norm L2')"
   ]
  },
  {
   "cell_type": "markdown",
   "id": "5c01e7d2",
   "metadata": {},
   "source": [
    "## Método iterativo mínimos cuadrados"
   ]
  },
  {
   "cell_type": "markdown",
   "id": "4d06c73a",
   "metadata": {},
   "source": [
    "Paso 1:"
   ]
  },
  {
   "cell_type": "markdown",
   "id": "294a23b8",
   "metadata": {},
   "source": [
    "Paso 2:"
   ]
  },
  {
   "cell_type": "code",
   "execution_count": 7,
   "id": "3a83a34a",
   "metadata": {},
   "outputs": [],
   "source": [
    "# Definimos la funcion \n",
    "\n",
    "# d = g(m)\n",
    "# d = distancia_fuente-receptor / velocidad_de_propagación\n",
    "\n",
    "# Cálculo del tiempo de viaje \"traveltime\"\n",
    "def tiempo_de_viaje(xf, zf, xr, zr, vel):\n",
    "    # estimación de tiempo de viaje a cada receptor\n",
    "    distancia = np.sqrt((xf - xr)**2. + (zf - zr)**2.)\n",
    "    tiempo = distancia / vel\n",
    "    return tiempo"
   ]
  },
  {
   "cell_type": "markdown",
   "id": "8add6369",
   "metadata": {},
   "source": [
    "Paso 3: "
   ]
  },
  {
   "cell_type": "code",
   "execution_count": 8,
   "id": "239c8646",
   "metadata": {},
   "outputs": [],
   "source": [
    "# Definimos m^k  de k=1  \n",
    "\n",
    "m_k = np.asarray([1, 11])"
   ]
  },
  {
   "cell_type": "markdown",
   "id": "6cb0e671",
   "metadata": {},
   "source": [
    "Paso 4:"
   ]
  },
  {
   "cell_type": "code",
   "execution_count": 9,
   "id": "04737cc4",
   "metadata": {},
   "outputs": [],
   "source": [
    "# Estimacion de las derivadas parciales, gradiente, frechet derivatives\n",
    "def gradiente_tiempo_de_viaje(xf, zf, xr, zr, vel, delta):\n",
    "\n",
    "    # Cálculo de derivadas parciales\n",
    "    grad = np.zeros((len(xr), 2), dtype=float)\n",
    "    \n",
    "    for i in range(len(xr)):\n",
    "        # centro\n",
    "        t_c = tiempo_de_viaje(xf, zf, xr[i], zr[i], vel)\n",
    "    \n",
    "        # con respecto a X\n",
    "        t_delta_x = tiempo_de_viaje(xf+delta, zf, xr[i], zr[i], vel)\n",
    "        #print(t_delta_x, t_c)\n",
    "        derivada_x = (t_delta_x - t_c) / delta \n",
    "        # con respecto a Z\n",
    "        t_delta_z = tiempo_de_viaje(xf, zf+delta, xr[i], zr[i], vel)\n",
    "        #print(t_delta_z, t_c)\n",
    "        derivada_z = (t_delta_z - t_c) / delta \n",
    "        grad[i][0] = derivada_x\n",
    "        grad[i][1] = derivada_z\n",
    "\n",
    "    return grad\n",
    "\n",
    "# Estimación del ajuste de los datos Norma L2\n",
    "def delta_d(t_obs, t_cal):\n",
    "    del_d = np.zeros((len(t_cal), 1), dtype=float)\n",
    "    for i in range(len(t_cal)):\n",
    "        del_d[i] = t_obs[i] - t_cal[i]\n",
    "    return del_d\n"
   ]
  },
  {
   "cell_type": "markdown",
   "id": "8d31499d",
   "metadata": {},
   "source": [
    "Paso 6:"
   ]
  },
  {
   "cell_type": "code",
   "execution_count": 21,
   "id": "9e559fd5",
   "metadata": {},
   "outputs": [
    {
     "name": "stdout",
     "output_type": "stream",
     "text": [
      "[-3 25] k= 0\n",
      "[-3 25] k =  0 ajuste =  [[9.27055623]]\n",
      "[ 1 10] k =  1 ajuste =  [[9.95031033e-05]]\n",
      "[ 0 10] k =  2 ajuste =  [[0.]]\n"
     ]
    }
   ],
   "source": [
    "delta_dist = 0.1  # km\n",
    "\n",
    "xr = [0, 1]#, 8]\n",
    "zr = [0, 0]#, 5]\n",
    "#xr = [0, 5]\n",
    "#zr = [0, 0]\n",
    "\n",
    "t_obs = [2., 2.009975124224178]#, 1.8867962264113207]\n",
    "\n",
    "\n",
    "m_k = np.asarray([-3, 25])\n",
    "m_k = m_k.T\n",
    "print(m_k,'k=',0)\n",
    "costo = []\n",
    "m_i = []\n",
    "c = 1\n",
    "k = 0\n",
    "while c > 0.00001:\n",
    "    # Calcula G\n",
    "    grad_k = gradiente_tiempo_de_viaje(m_k[0], m_k[1], xr, zr, vel, delta_dist)\n",
    "    #print(grad_k)\n",
    "    # Calcula delta d\n",
    "    t_cal = np.zeros((len(xr), 1), dtype=float)\n",
    "    for i in range(len(xr)):\n",
    "        t_cal[i] = tiempo_de_viaje(m_k[0], m_k[1], xr[i], zr[i], vel)\n",
    "    del_d = delta_d(t_obs, t_cal)\n",
    "\n",
    "    # epsilon\n",
    "    epsilon = 0.001\n",
    "    I = np.eye(2)\n",
    "    \n",
    "    # Calcula delta m\n",
    "    GTG = np.matmul(grad_k.T, grad_k)\n",
    "    e2I = epsilon**2.*I\n",
    "    GTGe2I = GTG + e2I\n",
    "    GTGe2Iinv = np.linalg.inv(GTGe2I)\n",
    "    GTd = np.matmul(grad_k.T, del_d)\n",
    "    del_m = np.matmul(GTGe2Iinv, GTd)\n",
    "    c = ajuste_norma_l2(t_obs, t_cal)\n",
    "    \n",
    "    # Guardamos información de cada iteración\n",
    "    costo.append(c[0])\n",
    "    m_i.append(np.copy(m_k))\n",
    "\n",
    "    # Monitoreamos la evolución en cada iteración\n",
    "    print(m_k, 'k = ', k, 'ajuste = ', c)\n",
    "\n",
    "    # Actualizamos el modelo al siguiente paso\n",
    "    m_k[0] = m_k[0] + del_m[0]\n",
    "    m_k[1] = m_k[1] + del_m[1]\n",
    "    k += 1"
   ]
  },
  {
   "cell_type": "code",
   "execution_count": 24,
   "id": "a5e94768",
   "metadata": {},
   "outputs": [
    {
     "name": "stderr",
     "output_type": "stream",
     "text": [
      "/tmp/ipykernel_9963/3921202803.py:16: UserWarning: You passed a edgecolor/edgecolors ('black') for an unfilled marker ('x').  Matplotlib is ignoring the edgecolor in favor of the facecolor.  This behavior may change in the future.\n",
      "  ax1.scatter(m_i[s_i][0], m_i[s_i][1], 80, marker='x', color='red', edgecolor='black')\n"
     ]
    },
    {
     "name": "stdout",
     "output_type": "stream",
     "text": [
      "[-3 25]\n",
      "[ 1 10]\n",
      "[ 0 10]\n"
     ]
    },
    {
     "data": {
      "image/png": "[encoded data removed]",
      "text/plain": [
       "<Figure size 640x480 with 2 Axes>"
      ]
     },
     "metadata": {},
     "output_type": "display_data"
    }
   ],
   "source": [
    "# Grafiquemos los resultados\n",
    "fig2 = plt.figure(2)\n",
    "\n",
    "fig2.suptitle('Localización 2D por método iterativo')\n",
    "\n",
    "ax1 = fig2.add_subplot(1,2,1)\n",
    "ax1.set_title('Localización de hypocentro 2D')\n",
    "ax1.set_xlabel('Distancia en X (km)')\n",
    "ax1.set_ylabel('Distancia en Y (km)')\n",
    "# Graficando receptores\n",
    "for r_i in range(len(xr)):\n",
    "    ax1.scatter(xr[r_i], zr[r_i], 70, marker='v', color='blue', edgecolor='black')\n",
    "# Graficando el historico de las localizaciones\n",
    "for s_i in range(len(costo)):\n",
    "    if s_i < len(costo)-1:\n",
    "        ax1.scatter(m_i[s_i][0], m_i[s_i][1], 80, marker='x', color='red', edgecolor='black')\n",
    "        print(m_i[s_i])\n",
    "    else:\n",
    "        ax1.scatter(m_i[s_i][0], m_i[s_i][1], 80, marker='*', color='red', edgecolor='black')\n",
    "        print(m_i[s_i])\n",
    "\n",
    "# Labels\n",
    "ax1.grid()\n",
    "ax1.set_ylim(ax1.get_ylim()[::-1])\n",
    "ax1.set_xlim([-10,10])\n",
    "\n",
    "# Graficando el histórico del ajuste\n",
    "ax2 = fig2.add_subplot(1,2,2)\n",
    "ax2.set_title('Función de ajuste')\n",
    "iteracion = np.linspace(0, len(m_i)-1, len(m_i))\n",
    "ax2.plot(iteracion, costo)\n",
    "# labels\n",
    "ax2.set_xlabel('# Iteración')\n",
    "ax2.set_ylabel('Ajuste Norma L2')\n",
    "ax2.grid()\n"
   ]
  },
  {
   "cell_type": "code",
   "execution_count": null,
   "id": "ac2e178a",
   "metadata": {},
   "outputs": [],
   "source": []
  },
  {
   "cell_type": "code",
   "execution_count": 2,
   "id": "10f9a663",
   "metadata": {},
   "outputs": [],
   "source": [
    "# Algunas funciones que se van a necesitar\n",
    "\n",
    "# Cálculo del tiempo de viaje \"traveltime\"\n",
    "def tiempo_de_viaje(xf, zf, xr, zr, vel):\n",
    "    tiempo = []\n",
    "    for i in range(len(xr)):\n",
    "        distancia = np.sqrt((xr[i] - xf)**2. + (zr[i] - zf)**2.)\n",
    "        tiempo.append(distancia / vel)\n",
    "    tiempo = np.asarray(tiempo)\n",
    "    return tiempo\n",
    "\n",
    "# Estimacion de las derivadas parciales, gradiente, frechet derivatives\n",
    "def gradiente_tiempo_de_viaje(xf, zf, xr, zr, vel, delta):\n",
    "\n",
    "    # Cálculo de derivadas parciales\n",
    "    \n",
    "    # con respecto a X\n",
    "    t_delta_x = tiempo_de_viaje(xf+delta, zf, xr, zr, vel)\n",
    "    t_x = tiempo_de_viaje(xf, zf, xr, zr, vel)\n",
    "    derivada_x = (t_delta_x - t_x) / delta \n",
    "    # con respecto a Z\n",
    "    t_delta_z = tiempo_de_viaje(xf, zf+delta, xr, zr, vel)\n",
    "    t_z = tiempo_de_viaje(xf, zf, xr, zr, vel)\n",
    "    derivada_z = (t_delta_z - t_z) / delta \n",
    "\n",
    "    # agrupamos derivadas\n",
    "    gradiente = np.asarray([derivada_x, derivada_z])\n",
    "    return gradiente\n",
    "\n",
    "# Estimación del ajuste de los datos Norma L2\n",
    "def ajuste_norma_l2(t_obs, t_cal):\n",
    "    delta_time = []\n",
    "    for i in range(len(t_obs)):\n",
    "        delta_time.append(t_obs[i] - t_cal[i])\n",
    "    delta_time = np.asarray(delta_time)\n",
    "    ajuste = (1/2) * (np.matmul(delta_time.T, delta_time))\n",
    "    return ajuste\n",
    "\n"
   ]
  },
  {
   "cell_type": "code",
   "execution_count": 138,
   "id": "68b9b4ba",
   "metadata": {},
   "outputs": [
    {
     "name": "stdout",
     "output_type": "stream",
     "text": [
      "[[0.00555507]\n",
      " [0.99994414]]\n"
     ]
    }
   ],
   "source": [
    "print(del_m)"
   ]
  },
  {
   "cell_type": "code",
   "execution_count": 169,
   "id": "07dc0e66",
   "metadata": {},
   "outputs": [
    {
     "name": "stdout",
     "output_type": "stream",
     "text": [
      "0.19999999999999996\n",
      "0.19889809659669444\n",
      "0.0\n"
     ]
    }
   ],
   "source": [
    "dist = np.sqrt((0-0)**2 + (9-0)**2)\n",
    "tobs = dist/5\n",
    "print(2-tobs)\n",
    "dist = np.sqrt((0-1)**2 + (9-0)**2)\n",
    "tobs = dist/5\n",
    "print(2.009975124224178-tobs)\n",
    "\n",
    "print(tobs-tcal)\n"
   ]
  },
  {
   "cell_type": "code",
   "execution_count": 165,
   "id": "f7638a79",
   "metadata": {},
   "outputs": [
    {
     "data": {
      "text/plain": [
       "1.8"
      ]
     },
     "execution_count": 165,
     "metadata": {},
     "output_type": "execute_result"
    }
   ],
   "source": [
    "9/5"
   ]
  },
  {
   "cell_type": "code",
   "execution_count": null,
   "id": "b1093d76",
   "metadata": {},
   "outputs": [],
   "source": []
  }
 ],
 "metadata": {
  "kernelspec": {
   "display_name": "Python 3 (ipykernel)",
   "language": "python",
   "name": "python3"
  },
  "language_info": {
   "codemirror_mode": {
    "name": "ipython",
    "version": 3
   },
   "file_extension": ".py",
   "mimetype": "text/x-python",
   "name": "python",
   "nbconvert_exporter": "python",
   "pygments_lexer": "ipython3",
   "version": "3.9.16"
  }
 },
 "nbformat": 4,
 "nbformat_minor": 5
}
