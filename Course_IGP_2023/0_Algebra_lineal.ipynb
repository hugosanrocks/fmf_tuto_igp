{
 "cells": [
  {
   "cell_type": "markdown",
   "id": "9a86df08",
   "metadata": {},
   "source": [
    "## Repaso rápido de Algebra Linear con Python"
   ]
  },
  {
   "cell_type": "code",
   "execution_count": 18,
   "id": "aa7cd7b7",
   "metadata": {},
   "outputs": [],
   "source": [
    "# En este jupyter notebook se muestran algunas\n",
    "# de las formas de trabajar con vectores, matrices\n",
    "# multiplicación matricial y otras herramientas\n",
    " \n",
    "# Autor: Hugo Sánchez-Reyes\n",
    "# CR IRD-ISTerre\n",
    "# Julio de 2023"
   ]
  },
  {
   "cell_type": "code",
   "execution_count": 3,
   "id": "d1babc19",
   "metadata": {},
   "outputs": [],
   "source": [
    "#importando librerias a utilizar\n",
    "#libreria para cálculos\n",
    "import numpy as np\n",
    "#librería par a gráficas\n",
    "import matplotlib.pyplot as plt"
   ]
  },
  {
   "cell_type": "code",
   "execution_count": 5,
   "id": "6cb66204",
   "metadata": {},
   "outputs": [
    {
     "name": "stdout",
     "output_type": "stream",
     "text": [
      "vec =  [1 4 7]\n",
      "mi vector 2:  [5 2 4]\n"
     ]
    }
   ],
   "source": [
    "#Definición de vectores y matrices\n",
    "vec = np.array([1, 4, 7])\n",
    "print(\"vec = \", vec)\n",
    "\n",
    "vec2 = np.array([5, 2, 4])\n",
    "print('mi vector 2: ', vec2)"
   ]
  },
  {
   "cell_type": "code",
   "execution_count": 6,
   "id": "13d4edf4",
   "metadata": {},
   "outputs": [
    {
     "name": "stdout",
     "output_type": "stream",
     "text": [
      "vec^T =  [1 4 7]\n",
      "mi vecT =  [5 2 4]\n",
      "o\n",
      "vec^T =  [1 4 7]\n"
     ]
    }
   ],
   "source": [
    "#El vector transpuesto\n",
    "vecT = vec.transpose()\n",
    "print(r\"vec^T = \", vecT)\n",
    "\n",
    "vec2T = vec2.transpose()\n",
    "print('mi vecT = ', vec2T)\n",
    "\n",
    "#o también\n",
    "print('o')\n",
    "\n",
    "vecT = vec.T\n",
    "print(r\"vec^T = \", vec.transpose())"
   ]
  },
  {
   "cell_type": "code",
   "execution_count": 8,
   "id": "155fa3c0",
   "metadata": {},
   "outputs": [
    {
     "name": "stdout",
     "output_type": "stream",
     "text": [
      "Producto escalar/interno:  66\n",
      "Otro método producto escalar/interno:  66\n",
      "Mi producto escalar: 45\n"
     ]
    }
   ],
   "source": [
    "#Producto punto\n",
    "producto_escalar = vec.dot(vecT)\n",
    "print('Producto escalar/interno: ', producto_escalar)\n",
    "\n",
    "result = np.matmul(vec, vecT)\n",
    "print('Otro método producto escalar/interno: ', producto_escalar)\n",
    "\n",
    "resultado2 = np.matmul(vec2, vec2T)\n",
    "print('Mi producto escalar:', resultado2)"
   ]
  },
  {
   "cell_type": "code",
   "execution_count": 11,
   "id": "c8d47bb4",
   "metadata": {},
   "outputs": [
    {
     "name": "stdout",
     "output_type": "stream",
     "text": [
      "matrix = \n",
      " [[1 4 7]\n",
      " [2 8 1]\n",
      " [3 0 4]]\n",
      " Y la matriz transpuesta = \n",
      " [[1 2 3]\n",
      " [4 8 0]\n",
      " [7 1 4]]\n",
      "Matriz 2:\n",
      " [[1 0 0]\n",
      " [0 1 0]\n",
      " [0 0 1]]\n",
      "Matriz 2 transpuesta:\n",
      " [[1 0 0]\n",
      " [0 1 0]\n",
      " [0 0 1]]\n"
     ]
    }
   ],
   "source": [
    "matrix = np.array([[1, 4, 7], [2, 8, 1], [3, 0, 4]])\n",
    "print(\"matrix = \\n\", matrix)\n",
    "\n",
    "matrixT = matrix.T\n",
    "print(\" Y la matriz transpuesta = \\n\", matrixT)\n",
    "\n",
    "matrix2 = np.array([[1, 0, 0], [0, 1, 0], [0, 0, 1]])\n",
    "matrix2T = matrix2.T\n",
    "print('Matriz 2:\\n', matrix2)\n",
    "print('Matriz 2 transpuesta:\\n', matrix2T)\n"
   ]
  },
  {
   "cell_type": "code",
   "execution_count": 14,
   "id": "2c4fa451",
   "metadata": {},
   "outputs": [
    {
     "name": "stdout",
     "output_type": "stream",
     "text": [
      "vector mulplicado por matriz:  [30 36 39]\n",
      "vector transpuesto mulplicado por matriz:  [66 41 31]\n",
      "vec2 por matriz2: [5 2 4]\n",
      "matriz 2 por vec2T: [5 2 4]\n"
     ]
    }
   ],
   "source": [
    "result = np.matmul(vec, matrix)\n",
    "print('vector mulplicado por matriz: ', result)\n",
    "result = np.matmul(matrix, vecT)\n",
    "print('vector transpuesto mulplicado por matriz: ', result)\n",
    "\n",
    "result2 = np.matmul(vec2, matrix2)\n",
    "result2t = np.matmul(matrix2, vec2T)\n",
    "print('vec2 por matriz2:', result2)\n",
    "print('matriz 2 por vec2T:', result2t)"
   ]
  },
  {
   "cell_type": "code",
   "execution_count": 16,
   "id": "15abc4f3",
   "metadata": {},
   "outputs": [
    {
     "name": "stdout",
     "output_type": "stream",
     "text": [
      "Determinante de matrix:  -155.99999999999986\n",
      "Determinante de la matriz 2: 1.0\n"
     ]
    }
   ],
   "source": [
    "# Determinante de una matriz\n",
    "det_matrix = np.linalg.det(matrix)\n",
    "print('Determinante de matrix: ', det_matrix)\n",
    "\n",
    "det_matrix2 = np.linalg.det(matrix2)\n",
    "print('Determinante de la matriz 2:', det_matrix2)"
   ]
  },
  {
   "cell_type": "code",
   "execution_count": 19,
   "id": "74f73597",
   "metadata": {},
   "outputs": [
    {
     "name": "stdout",
     "output_type": "stream",
     "text": [
      "inversa de la matriz: \n",
      " [[-0.20512821  0.1025641   0.33333333]\n",
      " [ 0.03205128  0.10897436 -0.08333333]\n",
      " [ 0.15384615 -0.07692308  0.        ]]\n",
      "inversa de la matriz 2: \n",
      " [[1. 0. 0.]\n",
      " [0. 1. 0.]\n",
      " [0. 0. 1.]]\n"
     ]
    }
   ],
   "source": [
    "# Estimaciñon de la inversa de una matriz\n",
    "inv_matrix = np.linalg.inv(matrix)\n",
    "print('inversa de la matriz: \\n', inv_matrix)\n",
    "\n",
    "inv_matrix2 = np.linalg.inv(matrix2)\n",
    "print('inversa de la matriz 2: \\n', inv_matrix2)"
   ]
  },
  {
   "cell_type": "code",
   "execution_count": 23,
   "id": "95cd17a1",
   "metadata": {},
   "outputs": [
    {
     "name": "stdout",
     "output_type": "stream",
     "text": [
      "Resultado PREmultiplicación: \n",
      " [[1.00000000e+00 0.00000000e+00 0.00000000e+00]\n",
      " [1.38777878e-17 1.00000000e+00 0.00000000e+00]\n",
      " [0.00000000e+00 0.00000000e+00 1.00000000e+00]]\n",
      "Resultado POSTmultiplicación: \n",
      " [[1.00000000e+00 0.00000000e+00 0.00000000e+00]\n",
      " [1.38777878e-17 1.00000000e+00 0.00000000e+00]\n",
      " [0.00000000e+00 0.00000000e+00 1.00000000e+00]]\n",
      "\n",
      "\n",
      "Resultado PREmultiplicación 2: \n",
      " [[1.00000000e+00 0.00000000e+00 0.00000000e+00]\n",
      " [1.38777878e-17 1.00000000e+00 0.00000000e+00]\n",
      " [0.00000000e+00 0.00000000e+00 1.00000000e+00]]\n",
      "Resultado POSTmultiplicación 2: \n",
      " [[ 1.00000000e+00 -5.55111512e-17  0.00000000e+00]\n",
      " [ 0.00000000e+00  1.00000000e+00  0.00000000e+00]\n",
      " [ 0.00000000e+00  0.00000000e+00  1.00000000e+00]]\n"
     ]
    }
   ],
   "source": [
    "# Comprobación del cálculo de la inversa de una matriz\n",
    "premul = np.matmul(inv_matrix, matrix)\n",
    "print('Resultado PREmultiplicación: \\n', premul)\n",
    "posmul = np.matmul(matrix, inv_matrix)\n",
    "print('Resultado POSTmultiplicación: \\n', premul)\n",
    "print('\\n')\n",
    "premul2 = np.matmul(inv_matrix2, matrix2)\n",
    "print('Resultado PREmultiplicación 2: \\n', premul)\n",
    "posmul2 = np.matmul(matrix2, inv_matrix2)\n",
    "print('Resultado POSTmultiplicación 2: \\n', posmul)"
   ]
  },
  {
   "cell_type": "code",
   "execution_count": null,
   "id": "324ee381",
   "metadata": {},
   "outputs": [],
   "source": []
  }
 ],
 "metadata": {
  "kernelspec": {
   "display_name": "Python 3 (ipykernel)",
   "language": "python",
   "name": "python3"
  },
  "language_info": {
   "codemirror_mode": {
    "name": "ipython",
    "version": 3
   },
   "file_extension": ".py",
   "mimetype": "text/x-python",
   "name": "python",
   "nbconvert_exporter": "python",
   "pygments_lexer": "ipython3",
   "version": "3.9.16"
  }
 },
 "nbformat": 4,
 "nbformat_minor": 5
}
