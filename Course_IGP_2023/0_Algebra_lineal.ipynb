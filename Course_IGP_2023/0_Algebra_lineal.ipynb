{
 "cells": [
  {
   "cell_type": "code",
   "execution_count": 2,
   "id": "d1babc19",
   "metadata": {},
   "outputs": [],
   "source": [
    "#importando librerias a utilizar\n",
    "#libreria para cálculos\n",
    "import numpy as np\n",
    "#librería para gráficas\n",
    "import matplotlib.pyplot as plt"
   ]
  },
  {
   "cell_type": "code",
   "execution_count": 3,
   "id": "6cb66204",
   "metadata": {},
   "outputs": [
    {
     "name": "stdout",
     "output_type": "stream",
     "text": [
      "vec =  [1 4 7]\n"
     ]
    }
   ],
   "source": [
    "#Definición de vectores y matrices\n",
    "vec = np.asarray([1, 4, 7])\n",
    "print(\"vec = \", vec)"
   ]
  },
  {
   "cell_type": "code",
   "execution_count": 11,
   "id": "13d4edf4",
   "metadata": {},
   "outputs": [
    {
     "name": "stdout",
     "output_type": "stream",
     "text": [
      "vec^T =  [1 4 7]\n"
     ]
    }
   ],
   "source": [
    "#El vector transpuesto\n",
    "vecT = vec.transpose()\n",
    "print(r\"vec^T = \", vec.transpose())"
   ]
  },
  {
   "cell_type": "code",
   "execution_count": 13,
   "id": "c8d47bb4",
   "metadata": {},
   "outputs": [
    {
     "name": "stdout",
     "output_type": "stream",
     "text": [
      "matrix = \n",
      " [[1 4 7]\n",
      " [2 8 1]\n",
      " [3 0 4]]\n"
     ]
    }
   ],
   "source": [
    "matrix = np.asarray([[1, 4, 7], [2, 8, 1], [3, 0, 4]])\n",
    "print(\"matrix = \\n\", matrix)"
   ]
  },
  {
   "cell_type": "code",
   "execution_count": 16,
   "id": "2c4fa451",
   "metadata": {},
   "outputs": [
    {
     "data": {
      "text/plain": [
       "array([[ 1, 16, 49],\n",
       "       [ 2, 32,  7],\n",
       "       [ 3,  0, 28]])"
      ]
     },
     "execution_count": 16,
     "metadata": {},
     "output_type": "execute_result"
    }
   ],
   "source": [
    "vec*matrix"
   ]
  },
  {
   "cell_type": "code",
   "execution_count": null,
   "id": "4db97a67",
   "metadata": {},
   "outputs": [],
   "source": []
  }
 ],
 "metadata": {
  "kernelspec": {
   "display_name": "Python 3 (ipykernel)",
   "language": "python",
   "name": "python3"
  },
  "language_info": {
   "codemirror_mode": {
    "name": "ipython",
    "version": 3
   },
   "file_extension": ".py",
   "mimetype": "text/x-python",
   "name": "python",
   "nbconvert_exporter": "python",
   "pygments_lexer": "ipython3",
   "version": "3.9.16"
  }
 },
 "nbformat": 4,
 "nbformat_minor": 5
}
