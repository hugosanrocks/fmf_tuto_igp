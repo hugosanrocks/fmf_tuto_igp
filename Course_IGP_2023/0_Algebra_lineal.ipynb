{
 "cells": [
  {
   "cell_type": "markdown",
   "id": "9a86df08",
   "metadata": {},
   "source": [
    "## Repaso rápido de Algebra Linear con Python"
   ]
  },
  {
   "cell_type": "code",
   "execution_count": 18,
   "id": "aa7cd7b7",
   "metadata": {},
   "outputs": [],
   "source": [
    "# En este jupyter notebook se muestran algunas\n",
    "# de las formas de trabajar con vectores, matrices\n",
    "# multiplicación matricial y otras herramientas\n",
    "\n",
    "\n",
    "# Autor: Hugo Sánchez-Reyes\n",
    "# CR IRD-ISTerre\n",
    "# Julio de 2023"
   ]
  },
  {
   "cell_type": "code",
   "execution_count": 19,
   "id": "d1babc19",
   "metadata": {},
   "outputs": [],
   "source": [
    "#importando librerias a utilizar\n",
    "#libreria para cálculos\n",
    "import numpy as np\n",
    "#librería para gráficas\n",
    "import matplotlib.pyplot as plt"
   ]
  },
  {
   "cell_type": "code",
   "execution_count": 20,
   "id": "6cb66204",
   "metadata": {},
   "outputs": [
    {
     "name": "stdout",
     "output_type": "stream",
     "text": [
      "vec =  [1 4 7]\n"
     ]
    }
   ],
   "source": [
    "#Definición de vectores y matrices\n",
    "vec = np.asarray([1, 4, 7])\n",
    "print(\"vec = \", vec)"
   ]
  },
  {
   "cell_type": "code",
   "execution_count": 21,
   "id": "13d4edf4",
   "metadata": {},
   "outputs": [
    {
     "name": "stdout",
     "output_type": "stream",
     "text": [
      "vec^T =  [1 4 7]\n"
     ]
    }
   ],
   "source": [
    "#El vector transpuesto\n",
    "vecT = vec.transpose()\n",
    "print(r\"vec^T = \", vec.transpose())"
   ]
  },
  {
   "cell_type": "code",
   "execution_count": 22,
   "id": "155fa3c0",
   "metadata": {},
   "outputs": [
    {
     "name": "stdout",
     "output_type": "stream",
     "text": [
      "Producto escalar/interno:  66\n",
      "Otro método producto escalar/interno:  66\n"
     ]
    }
   ],
   "source": [
    "#Producto punto\n",
    "producto_escalar = vec.dot(vecT)\n",
    "print('Producto escalar/interno: ', producto_escalar)\n",
    "\n",
    "result = np.matmul(vec, vecT)\n",
    "print('Otro método producto escalar/interno: ', producto_escalar)\n",
    "\n"
   ]
  },
  {
   "cell_type": "code",
   "execution_count": 23,
   "id": "c8d47bb4",
   "metadata": {},
   "outputs": [
    {
     "name": "stdout",
     "output_type": "stream",
     "text": [
      "matrix = \n",
      " [[1 4 7]\n",
      " [2 8 1]\n",
      " [3 0 4]]\n"
     ]
    }
   ],
   "source": [
    "matrix = np.asarray([[1, 4, 7], [2, 8, 1], [3, 0, 4]])\n",
    "print(\"matrix = \\n\", matrix)"
   ]
  },
  {
   "cell_type": "code",
   "execution_count": 24,
   "id": "2c4fa451",
   "metadata": {},
   "outputs": [
    {
     "name": "stdout",
     "output_type": "stream",
     "text": [
      "vector mulplicado por matriz:  [30 36 39]\n",
      "vector transpuesto mulplicado por matriz:  [66 41 31]\n"
     ]
    }
   ],
   "source": [
    "result = np.matmul(vec, matrix)\n",
    "print('vector mulplicado por matriz: ', result)\n",
    "\n",
    "result = np.matmul(matrix, vecT)\n",
    "print('vector transpuesto mulplicado por matriz: ', result)\n"
   ]
  },
  {
   "cell_type": "code",
   "execution_count": 28,
   "id": "15abc4f3",
   "metadata": {},
   "outputs": [
    {
     "name": "stdout",
     "output_type": "stream",
     "text": [
      "Determinante de matrix:  -155.99999999999986\n"
     ]
    }
   ],
   "source": [
    "# Determinante de una matriz\n",
    "det_matrix = np.linalg.det(matrix)\n",
    "print('Determinante de matrix: ', det_matrix)"
   ]
  },
  {
   "cell_type": "code",
   "execution_count": 30,
   "id": "74f73597",
   "metadata": {},
   "outputs": [],
   "source": [
    "# Estimaciñon de la inversa de una matriz\n",
    "inv_matrix = np.linalg.inv(matrix)"
   ]
  },
  {
   "cell_type": "code",
   "execution_count": 34,
   "id": "95cd17a1",
   "metadata": {},
   "outputs": [
    {
     "name": "stdout",
     "output_type": "stream",
     "text": [
      "Resultado PREmultiplicación: \n",
      " [[1.00000000e+00 0.00000000e+00 0.00000000e+00]\n",
      " [1.38777878e-17 1.00000000e+00 0.00000000e+00]\n",
      " [0.00000000e+00 0.00000000e+00 1.00000000e+00]]\n",
      "Resultado POSTmultiplicación: \n",
      " [[1.00000000e+00 0.00000000e+00 0.00000000e+00]\n",
      " [1.38777878e-17 1.00000000e+00 0.00000000e+00]\n",
      " [0.00000000e+00 0.00000000e+00 1.00000000e+00]]\n"
     ]
    }
   ],
   "source": [
    "# Comprobación del cálculo de la inversa de una matriz\n",
    "premul = np.matmul(inv_matrix, matrix)\n",
    "print('Resultado PREmultiplicación: \\n', premul)\n",
    "\n",
    "posmul = np.matmul(matrix, inv_matrix)\n",
    "print('Resultado POSTmultiplicación: \\n', premul)\n"
   ]
  },
  {
   "cell_type": "code",
   "execution_count": null,
   "id": "324ee381",
   "metadata": {},
   "outputs": [],
   "source": []
  }
 ],
 "metadata": {
  "kernelspec": {
   "display_name": "Python 3 (ipykernel)",
   "language": "python",
   "name": "python3"
  },
  "language_info": {
   "codemirror_mode": {
    "name": "ipython",
    "version": 3
   },
   "file_extension": ".py",
   "mimetype": "text/x-python",
   "name": "python",
   "nbconvert_exporter": "python",
   "pygments_lexer": "ipython3",
   "version": "3.9.16"
  }
 },
 "nbformat": 4,
 "nbformat_minor": 5
}
