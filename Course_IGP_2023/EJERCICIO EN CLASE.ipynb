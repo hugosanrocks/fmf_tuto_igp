{
 "cells": [
  {
   "cell_type": "code",
   "execution_count": 1,
   "id": "974d19cc",
   "metadata": {},
   "outputs": [],
   "source": [
    "# Importamos las librerias que vamos a usar\n",
    "import numpy as np\n",
    "import matplotlib.pyplot as plt"
   ]
  },
  {
   "cell_type": "code",
   "execution_count": 2,
   "id": "69b25df7",
   "metadata": {},
   "outputs": [
    {
     "name": "stdout",
     "output_type": "stream",
     "text": [
      "[[1. 1. 1. 1. 0. 0. 0. 0. 0. 0. 0. 0. 0. 0. 0. 0.]\n",
      " [0. 0. 0. 0. 1. 1. 1. 1. 0. 0. 0. 0. 0. 0. 0. 0.]\n",
      " [0. 0. 0. 0. 0. 0. 0. 0. 1. 1. 1. 1. 0. 0. 0. 0.]\n",
      " [0. 0. 0. 0. 0. 0. 0. 0. 0. 0. 0. 0. 1. 1. 1. 1.]\n",
      " [1. 0. 0. 0. 1. 0. 0. 0. 1. 0. 0. 0. 1. 0. 0. 0.]\n",
      " [0. 1. 0. 0. 0. 1. 0. 0. 0. 1. 0. 0. 0. 1. 0. 0.]\n",
      " [0. 0. 1. 0. 0. 0. 1. 0. 0. 0. 1. 0. 0. 0. 1. 0.]\n",
      " [0. 0. 0. 1. 0. 0. 0. 1. 0. 0. 0. 1. 0. 0. 0. 1.]]\n"
     ]
    }
   ],
   "source": [
    "# largo y ancho de los ladrillos\n",
    "h = 1\n",
    "\n",
    "# Caso de tomografía acustica\n",
    "N = 8    # número de observaciones\n",
    "M = 16   # número de parámetros del modelo\n",
    "\n",
    "# Construimos la matriz G\n",
    "G = np.zeros((N,M), dtype=float)\n",
    "\n",
    "# formamos la matriz kernel\n",
    "for i in range(4):\n",
    "    for j in range(4):\n",
    "        # medidas en las lineas\n",
    "            k = (i)*4 + j\n",
    "            G[i][k] = h\n",
    "            # medidas en las columnas\n",
    "            k = (j)*4 + i\n",
    "            G[i+4][k] = h\n",
    "print(G)"
   ]
  },
  {
   "cell_type": "code",
   "execution_count": 4,
   "id": "c6029b09",
   "metadata": {},
   "outputs": [
    {
     "name": "stdout",
     "output_type": "stream",
     "text": [
      "Tiempos de viaje sin ruido:\n",
      " [4.         2.         1.33333333 1.         2.08333333 2.08333333\n",
      " 2.08333333 2.08333333]\n",
      "[4.         2.         1.33333333 1.         2.08333333 2.08333333\n",
      " 2.08333333 2.08333333]\n",
      "Tiempos de viaje con ruido:\n",
      " [3.99851948 1.99622644 1.32867669 1.0216084  2.09441383 2.0819155\n",
      " 2.09614832 2.10251596]\n"
     ]
    }
   ],
   "source": [
    "# Demos valores de velocidad de onda acustica a cada ladrillo\n",
    "m = np.asarray([1, 1, 1, 1, 2, 2, 2, 2, 3, 3, 3, 3, 4, 4, 4, 4]) # km/s\n",
    "\n",
    "#  d (s) = G (km) * m (1 / km/s)\n",
    "\n",
    "# Calculemos la \"lentitud\" = 1 / velocidad\n",
    "m = 1 / m\n",
    "\n",
    "# Vector transpuesto para hacer   d = G m\n",
    "# recuerden que G es 8x16 y m es 16x1 parámetros, d es 8x1 observaciones\n",
    "m = m.T\n",
    "\n",
    "# Medidas reales sin ruido\n",
    "d = np.matmul(G, m)\n",
    "print('Tiempos de viaje sin ruido:\\n', d)\n",
    "# Datos con ruido\n",
    "print(d)\n",
    "d_con_ruido = np.zeros(len(d), dtype=float)\n",
    "\n",
    "# Agregaremos ruido para crear medidas más reales\n",
    "for i in range(len(d)):\n",
    "    d_con_ruido[i] = d[i] + np.random.normal(0,0.01)  # 0.01 segundo max desviación\n",
    "print('Tiempos de viaje con ruido:\\n', d_con_ruido)"
   ]
  },
  {
   "cell_type": "code",
   "execution_count": 8,
   "id": "af241f6b",
   "metadata": {},
   "outputs": [
    {
     "name": "stdout",
     "output_type": "stream",
     "text": [
      "m_real    m_est\n",
      "1.0       48.0\n",
      "1.0       -20.0\n",
      "1.0       -46.0\n",
      "1.0       -2.0\n",
      "0.5       -88.0\n",
      "0.5       -9.0\n",
      "0.5       -2.0\n",
      "0.5       56.0\n",
      "0.3333333333333333       -14.0\n",
      "0.3333333333333333       8.0\n",
      "0.3333333333333333       4.0\n",
      "0.3333333333333333       -5.0\n",
      "0.25       20.0\n",
      "0.25       6.0\n",
      "0.25       8.0\n",
      "0.25       -32.0\n",
      "\n",
      "\n",
      "Datos observados VS sintéticos \n",
      "\n",
      "d_obs                   d_pred\n",
      "3.998519478196719       -20.0\n",
      "1.9962264366496645       -43.0\n",
      "1.3286766902512948       -7.0\n",
      "1.021608400629093       2.0\n",
      "2.0944138296600503       -34.0\n",
      "2.081915501030578       -15.0\n",
      "2.096148315838933       -36.0\n",
      "2.1025159606234887       17.0\n"
     ]
    }
   ],
   "source": [
    "# Calculamos G^T G\n",
    "GT = G.T\n",
    "GTd = np.matmul(GT, d_con_ruido)\n",
    "GTG = np.matmul(GT, G)\n",
    "GTGinv = np.linalg.inv(GTG)\n",
    "m_est = np.matmul(GTGinv, GTd)\n",
    "m_est_no_amor = m_est\n",
    "print('m_real    m_est')\n",
    "for i in range(M):\n",
    "    print(m[i], '     ', m_est[i])\n",
    "\n",
    "\n",
    "print('\\n')\n",
    "print('Datos observados VS sintéticos \\n')\n",
    "d_pred = np.matmul(G, m_est)\n",
    "print('d_obs                   d_pred')\n",
    "for i in range(N):\n",
    "    print(d_con_ruido[i], '     ', d_pred[i])\n"
   ]
  },
  {
   "cell_type": "code",
   "execution_count": 9,
   "id": "0859d8ac",
   "metadata": {},
   "outputs": [
    {
     "name": "stdout",
     "output_type": "stream",
     "text": [
      "2.0993362836148085e-140\n"
     ]
    }
   ],
   "source": [
    "print(np.linalg.det(GTG))"
   ]
  },
  {
   "cell_type": "code",
   "execution_count": null,
   "id": "e2149525",
   "metadata": {},
   "outputs": [],
   "source": []
  }
 ],
 "metadata": {
  "kernelspec": {
   "display_name": "Python 3 (ipykernel)",
   "language": "python",
   "name": "python3"
  },
  "language_info": {
   "codemirror_mode": {
    "name": "ipython",
    "version": 3
   },
   "file_extension": ".py",
   "mimetype": "text/x-python",
   "name": "python",
   "nbconvert_exporter": "python",
   "pygments_lexer": "ipython3",
   "version": "3.9.16"
  }
 },
 "nbformat": 4,
 "nbformat_minor": 5
}
