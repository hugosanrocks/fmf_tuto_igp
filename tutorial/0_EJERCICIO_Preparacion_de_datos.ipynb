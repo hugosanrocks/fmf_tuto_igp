{
 "cells": [
  {
   "cell_type": "markdown",
   "id": "d3360350",
   "metadata": {},
   "source": [
    "# Paso 0. Preparación de los datos continuos"
   ]
  },
  {
   "cell_type": "markdown",
   "id": "652b295e",
   "metadata": {},
   "source": [
    "Este código interactivo tiene como propósito preparar los datos requeridos para utilizar el software FMF para poder detectar microsismicidad. Vamos a requeris datos continuos en formato MINISEED además de los archivos con las respuestas intrumentales de las estaciones (archivos XML) que registraron los datos sísmicos continuos."
   ]
  },
  {
   "cell_type": "code",
   "execution_count": 1,
   "id": "46f64fb2",
   "metadata": {},
   "outputs": [],
   "source": [
    "# Debemos importar todos los paquetes que se van a utilizar\n",
    "import numpy as np\n",
    "import obspy as obs\n",
    "from obspy.geodetics.base import gps2dist_azimuth as Distance\n",
    "import matplotlib.pyplot as plt\n",
    "import glob\n",
    "import os\n",
    "import h5py as h5\n",
    "from obspy import read, read_inventory\n",
    "from obspy.core import UTCDateTime as udt"
   ]
  },
  {
   "cell_type": "code",
   "execution_count": 2,
   "id": "f7b62c52",
   "metadata": {},
   "outputs": [],
   "source": [
    "# Definimos el camino a las carpetas donde están nuestros datos sin preparar y \n",
    "# donde queremos escribir los datos una vez que estén ya preparados\n",
    "#path_data = '/home/insar/Bureau/fmf_tuto_igp/tutorial/datos/'\n",
    "#path_to_store_h5 = '/home/insar/Bureau/datos/preparados/'\n",
    "path_data = '/home/sanchezh/Public/fmf_tuto_igp/tutorial/datos/'\n",
    "path_to_store_h5 = '/home/sanchezh/Public/fmf_tuto_igp/tutorial/datos/preparados/'"
   ]
  },
  {
   "cell_type": "code",
   "execution_count": 3,
<<<<<<< HEAD
   "id": "d919a969",
=======
>>>>>>> 9422a25790a342ee0761d880f88cb806fffababb
   "metadata": {},
   "outputs": [
    {
     "name": "stdout",
     "output_type": "stream",
     "text": [
      "Lista de los días que se van a procesar:  [76.]\n"
     ]
    }
   ],
   "source": [
    "# Datos de la red y lista de estaciones y componentes a utilizar\n",
    "network = 'PE'\n",
    "stations = ['ANDY','CGLO','CHVY','QLK0']\n",
    "components=['BHE','BHN','BHZ'] # datos a 50 Hz, 50 muestras por segundo\n",
    "\n",
    "# Nombre del archivo de salida\n",
    "name_of_splitted_data_file = 'waveforms_'\n",
    "\n",
    "# Fecha de referencia. Ocuparemos el primer día del año 2022\n",
    "# ya que nuestros archivos están referenciados a ese dia\n",
    "# PE.CHVY..BHZ.D.2022.146   = día 146 del año 2022 = 26 de Mayo de 2022\n",
    "\n",
    "# Fecha de referencia\n",
    "start_date = udt('2022-01-01T00:00:00')\n",
    "start_time_first_day = udt('2022-01-01T00:00:00')\n",
    "\n",
    "# Crear lista de días con los que vamos a trabajar\n",
    "days = np.linspace(76,77,1) # on my computer\n",
    "print('Lista de los días que se van a procesar: ', days)\n"
   ]
  },
  {
   "cell_type": "markdown",
   "id": "54d0a011",
   "metadata": {},
   "source": [
    "## Parámetros de preprocesado de los datos\n",
    "\n",
    "En el siguiente bloque se deben definir las frequencias con las cuales se desea trabajar. Para una mejor detección de los eventos sísmicos utilizaremos en este caso un filtro pasabandas que permite el paso de frecuencias entre 0.05 y 22 Hz."
   ]
  },
  {
   "cell_type": "code",
   "execution_count": 4,
<<<<<<< HEAD
   "id": "8608d5c0",
=======
>>>>>>> 9422a25790a342ee0761d880f88cb806fffababb
   "metadata": {},
   "outputs": [],
   "source": [
    "# Definimos las frecuencias de corte de nuestro filtro a utilizar\n",
    "pre_filt = (.01,.05,22,24)\n",
    "bandpass = 'bandpass'\n",
    "bandpass_fmin = 5.0\n",
    "bandpass_fmax = 20.0"
   ]
  },
  {
   "cell_type": "markdown",
   "id": "0488d575",
   "metadata": {},
   "source": [
    "## Preparación de los datos continuos"
   ]
  },
  {
   "cell_type": "code",
<<<<<<< HEAD
   "execution_count": 5,
   "id": "0d95eeff",
=======
   "execution_count": null,
>>>>>>> 9422a25790a342ee0761d880f88cb806fffababb
   "metadata": {},
   "outputs": [
    {
     "name": "stderr",
     "output_type": "stream",
     "text": [
      "rm: cannot remove '/home/insar/Bureau/datos/preparados/*03-16**': No such file or directory\n"
     ]
    },
    {
     "name": "stdout",
     "output_type": "stream",
     "text": [
      "=======================================================\n",
      "Espere por favor, este proceso puede tomar unos minutos\n",
      "=======================================================\n",
<<<<<<< HEAD
      "Datos en preparación para la fecha:  2022-03-17T00:00:00.000000Z\n",
      "2022-03-18T00:00:00.000000Z\n",
=======
      "Datos en preparación para la fecha:  2022-03-16T00:00:00.000000Z\n",
      "2022-03-17T00:00:00.000000Z\n",
>>>>>>> 9422a25790a342ee0761d880f88cb806fffababb
      "Trabajando con la estación:  ANDY\n",
      "Preparando archivo de salida:  /home/sanchezh/Public/fmf_tuto_igp/tutorial/datos/PE.ANDY..BHE.D.2022.076\n",
      "Preparando archivo de salida:  /home/sanchezh/Public/fmf_tuto_igp/tutorial/datos/PE.ANDY..BHN.D.2022.076\n",
      "Preparando archivo de salida:  /home/sanchezh/Public/fmf_tuto_igp/tutorial/datos/PE.ANDY..BHZ.D.2022.076\n",
      "Trabajando con la estación:  CGLO\n",
<<<<<<< HEAD
      "Preparando archivo de salida:  /home/sanchezh/Public/fmf_tuto_igp/tutorial/datos/PE.CGLO..BHE.D.2022.076\n",
      "Preparando archivo de salida:  /home/sanchezh/Public/fmf_tuto_igp/tutorial/datos/PE.CGLO..BHN.D.2022.076\n",
      "Preparando archivo de salida:  /home/sanchezh/Public/fmf_tuto_igp/tutorial/datos/PE.CGLO..BHZ.D.2022.076\n",
      "Trabajando con la estación:  CHVY\n",
      "Preparando archivo de salida:  /home/sanchezh/Public/fmf_tuto_igp/tutorial/datos/PE.CHVY..BHE.D.2022.076\n",
      "Preparando archivo de salida:  /home/sanchezh/Public/fmf_tuto_igp/tutorial/datos/PE.CHVY..BHN.D.2022.076\n",
      "Preparando archivo de salida:  /home/sanchezh/Public/fmf_tuto_igp/tutorial/datos/PE.CHVY..BHZ.D.2022.076\n",
      "Trabajando con la estación:  QLK0\n",
      "Preparando archivo de salida:  /home/sanchezh/Public/fmf_tuto_igp/tutorial/datos/PE.QLK0..BHE.D.2022.076\n",
      "Preparando archivo de salida:  /home/sanchezh/Public/fmf_tuto_igp/tutorial/datos/PE.QLK0..BHN.D.2022.076\n",
      "Preparando archivo de salida:  /home/sanchezh/Public/fmf_tuto_igp/tutorial/datos/PE.QLK0..BHZ.D.2022.076\n",
      "=======================================================\n",
      "           Fin de la preparación de archivos           \n",
      "=======================================================\n"
=======
      "Preparando archivo de salida:  /home/insar/Bureau/fmf_tuto_igp/tutorial/datos/PE.CGLO..BHE.D.2022.075\n",
      "Preparando archivo de salida:  /home/insar/Bureau/fmf_tuto_igp/tutorial/datos/PE.CGLO..BHN.D.2022.075\n",
      "Preparando archivo de salida:  /home/insar/Bureau/fmf_tuto_igp/tutorial/datos/PE.CGLO..BHZ.D.2022.075\n",
      "Trabajando con la estación:  CHVY\n",
      "Preparando archivo de salida:  /home/insar/Bureau/fmf_tuto_igp/tutorial/datos/PE.CHVY..BHE.D.2022.075\n",
      "Preparando archivo de salida:  /home/insar/Bureau/fmf_tuto_igp/tutorial/datos/PE.CHVY..BHN.D.2022.075\n",
      "Preparando archivo de salida:  /home/insar/Bureau/fmf_tuto_igp/tutorial/datos/PE.CHVY..BHZ.D.2022.075\n"
>>>>>>> 9422a25790a342ee0761d880f88cb806fffababb
     ]
    }
   ],
   "source": [
    "# Borrar todos los datos en la carpeta de salida\n",
    "# para tener un directorio limpio antes de correr el código\n",
    "os.system('rm /home/insar/Bureau/datos/preparados/*03-17**')\n",
    "\n",
    "print('=======================================================')\n",
    "print('Espere por favor, este proceso puede tomar unos minutos')\n",
    "print('=======================================================')\n",
    "\n",
    "# Ciclo \"for\" para preparar cada dia de la lista de días a analizar\n",
    "for k in range(len(days)):\n",
    "    # inicio de la fecha de preparación\n",
    "    start_time_splitted_data = start_time_first_day+86400*(days[k]-1)\n",
    "    print('Datos en preparación para la fecha: ', start_time_splitted_data)\n",
    "    # fina de la fecha de preparación\n",
    "    end_time_splitted_data = start_time_first_day+(86400*(days[k]-1))+86400\n",
<<<<<<< HEAD
    "    print(end_time_splitted_data)                                               \n",
=======
    "    print(end_time_splitted_data)\n",
>>>>>>> 9422a25790a342ee0761d880f88cb806fffababb
    "    # fecha de inicio de los datos (cuenta en segundos)\n",
    "    start_time_splitted_data_in_s = [start_time_splitted_data - start_date]\n",
    "    # Definición del archivo de salida\n",
    "    template = h5.File((path_to_store_h5+name_of_splitted_data_file+start_time_splitted_data.strftime('%Y-%m-%d')+'.hdf5'), 'w')\n",
    "    # Ciclo \"for\" sobre cada una de las estaciones a analizar\n",
    "    for i in range(len(stations)):\n",
    "        print('Trabajando con la estación: ', stations[i])\n",
    "        # Ciclo \"for\" sobre cada una de las componentes a analizar\n",
    "        for j in range(len(components)):\n",
    "            # Definición del archivo de datos input a leer\n",
    "            name_file_data = path_data + network + '.' + stations[i] + '..' + components[j] + '.D.2022.' + str(int(days[k])).zfill(3)  \n",
    "            print('Preparando archivo de salida: ', name_file_data)\n",
    "            # Definición del archivo con los datos de la estación\n",
    "            name_file_info_station = path_data + network + '.' + stations[i] + '.xml'\n",
    "            # Leer datos sísmicos del archivo de input\n",
    "            st = read(name_file_data)\n",
    "            # Leer los datos de la estación sísmica\n",
    "            inv = read_inventory(name_file_info_station)\n",
    "            # Rellenar con ceros 0s los momentos donde la estación no funciona\n",
    "            st.trim(start_time_splitted_data, end_time_splitted_data, nearest_sample=True, pad=True, fill_value=0)\n",
    "            # Remover la respuesta instrumental de la estación a los datos sísmicos\n",
    "            st.remove_response(inventory=inv, pre_filt=pre_filt, plot=False)\n",
    "            # Filtrar los datos en un dado rango de frecuencias para un mejor analisis\n",
    "            st.filter(bandpass, freqmin=bandpass_fmin, freqmax=bandpass_fmax, zerophase=True)\n",
    "            # Guardar los datos en un arreglo temporal que guarda todas las estaciones y componentes\n",
    "            if i==0 and j==0:\n",
    "                    data_of_station = np.zeros((len(stations), len(components), st[0].stats.npts))\n",
    "                    # incrementar la amplitud por motivos computacionales\n",
    "                    data_of_station[i,j,:] = st[0].data[0:len(data_of_station[0,0])]* 100000.\n",
    "            else:\n",
    "                # incrementar la amplitud por motivos computacionales\n",
    "                data_of_station[i,j,:] = st[0].data[0:len(data_of_station[0,0])]  * 100000.\n",
    "        # En la última iteración de los ciclos, guarda el archivo de salida con todo listo\n",
    "        if i==len(stations)-1:\n",
    "            template.create_dataset('waveforms', data=data_of_station)\n",
    "            template.create_dataset('stations', data=np.array((stations), dtype='|S8'))\n",
    "            template.create_dataset('components', data=np.array(components, dtype='|S8'))\n",
    "            template.create_dataset('date', data=np.asarray(start_time_splitted_data_in_s))\n",
    "            template.create_dataset('sampling_rate', data=st[0].stats.sampling_rate)\n",
    "    template.close()\n",
    "print('=======================================================')\n",
    "print('           Fin de la preparación de archivos           ')\n",
    "print('=======================================================')\n"
   ]
  },
  {
   "cell_type": "code",
   "execution_count": null,
   "id": "87391a72",
   "metadata": {},
   "outputs": [],
   "source": []
  }
 ],
 "metadata": {
  "kernelspec": {
   "display_name": "Python 3 (ipykernel)",
   "language": "python",
   "name": "python3"
  },
  "language_info": {
   "codemirror_mode": {
    "name": "ipython",
    "version": 3
   },
   "file_extension": ".py",
   "mimetype": "text/x-python",
   "name": "python",
   "nbconvert_exporter": "python",
   "pygments_lexer": "ipython3",
   "version": "3.7.13"
  }
 },
 "nbformat": 4,
 "nbformat_minor": 5
}
