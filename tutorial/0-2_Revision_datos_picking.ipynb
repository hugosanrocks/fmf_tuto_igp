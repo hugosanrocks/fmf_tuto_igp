{
 "cells": [
  {
   "cell_type": "code",
   "execution_count": 16,
   "metadata": {},
   "outputs": [],
   "source": [
    "import utils\n",
    "import numpy as np\n",
    "import obspy as obs\n",
    "from obspy import UTCDateTime as udt \n",
    "import matplotlib.pyplot as plt"
   ]
  },
  {
   "cell_type": "code",
   "execution_count": 18,
   "metadata": {},
   "outputs": [],
   "source": [
    "data_file = '/home/sanchezh/Public/fmf_tuto_igp/tutorial/datos/preparados/waveforms_2022-03-17.hdf5'\n",
    "data = utils.load_data(data_file)\n",
    "station_id = 0\n",
    "component_id = 2\n",
    "reference_time = udt(\"2022-03-16T00:00:0.00\").timestamp\n",
    "\n"
   ]
  },
  {
   "cell_type": "code",
   "execution_count": 20,
   "metadata": {},
   "outputs": [
    {
     "name": "stderr",
     "output_type": "stream",
     "text": [
      "/home/sanchezh/anaconda3/envs/fmf/lib/python3.7/site-packages/ipykernel_launcher.py:39: UserWarning: Matplotlib is currently using module://matplotlib_inline.backend_inline, which is a non-GUI backend, so cannot show the figure.\n"
     ]
    },
    {
     "data": {
      "image/png": "[encoded data removed]",
      "text/plain": [
       "<Figure size 432x288 with 3 Axes>"
      ]
     },
     "metadata": {
      "needs_background": "light"
     },
     "output_type": "display_data"
    }
   ],
   "source": [
    "# Creación del vector tiempo con la duración del tamaño de los datos\n",
    "time = np.linspace(0., len(data['waveforms'][0][0]), len(data['waveforms'][0][0]))\n",
    "\n",
    "muestra_ini = 18*60*60*50 + 7*60*50\n",
    "muestra_fin = muestra_ini + 2*60*50\n",
    "\n",
    "# Creación de la figura\n",
    "fig1 = plt.figure()\n",
    "\n",
    "# Primer subplot\n",
    "ax1 = fig1.add_subplot(311)\n",
    "# Grafica de la componente E-W\n",
    "ax1.plot(time[muestra_ini:muestra_fin], data['waveforms'][station_id][0][muestra_ini:muestra_fin], color='blue', lw=3)#[2][samp_ini:samp_fin], lw=3)\n",
    "ax1.set_ylabel('Amplitud')\n",
    "ax1.set_xticklabels([])\n",
    "\n",
    "# Primer subplot\n",
    "ax2 = fig1.add_subplot(312)\n",
    "# Grafica de la componente E-W\n",
    "ax2.plot(time[muestra_ini:muestra_fin], data['waveforms'][station_id][1][muestra_ini:muestra_fin], color='red', lw=3)#[2][samp_ini:samp_fin], lw=3)\n",
    "ax2.set_ylabel('Amplitud')\n",
    "ax2.set_xticklabels([])\n",
    "\n",
    "# Primer subplot\n",
    "ax3 = fig1.add_subplot(313)\n",
    "# Grafica de la componente E-W\n",
    "ax3.plot(time[muestra_ini:muestra_fin], data['waveforms'][station_id][2][muestra_ini:muestra_fin], color='black', lw=3)#[2][samp_ini:samp_fin], lw=3)\n",
    "ax3.set_ylabel('Amplitud')\n",
    "\n",
    "ax3.set_xlabel('Tiempo (muestras)')\n",
    "\n",
    "# Definición del tamaño de letra en las figuras\n",
    "font = {'family': 'serif',\n",
    "        'size': 25}\n",
    "\n",
    "#print(data['metadata']['date'][0:10])\n",
    "#fig1.suptitle(date + ' en estación ' + station_name)\n",
    "# Mostrar la figura\n",
    "fig1.show()"
   ]
  },
  {
   "cell_type": "code",
   "execution_count": 12,
   "metadata": {},
   "outputs": [
    {
     "name": "stdout",
     "output_type": "stream",
     "text": [
      "2172000\n"
     ]
    }
   ],
   "source": [
    "print(muestra_fin)"
   ]
  },
  {
   "cell_type": "code",
   "execution_count": 13,
   "metadata": {},
   "outputs": [
    {
     "data": {
      "text/plain": [
       "8639951"
      ]
     },
     "execution_count": 13,
     "metadata": {},
     "output_type": "execute_result"
    }
   ],
   "source": [
    "len(data['waveforms'][0][0])"
   ]
  },
  {
   "cell_type": "code",
   "execution_count": null,
   "metadata": {},
   "outputs": [],
   "source": []
  }
 ],
 "metadata": {
  "kernelspec": {
   "display_name": "Python 3 (ipykernel)",
   "language": "python",
   "name": "python3"
  },
  "language_info": {
   "codemirror_mode": {
    "name": "ipython",
    "version": 3
   },
   "file_extension": ".py",
   "mimetype": "text/x-python",
   "name": "python",
   "nbconvert_exporter": "python",
   "pygments_lexer": "ipython3",
   "version": "3.7.13"
  }
 },
 "nbformat": 4,
 "nbformat_minor": 2
}
