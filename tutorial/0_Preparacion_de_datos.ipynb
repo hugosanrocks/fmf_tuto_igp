{
 "cells": [
  {
   "cell_type": "markdown",
   "id": "8568cad1",
   "metadata": {},
   "source": [
    "# Paso 0. Preparación de los datos continuos"
   ]
  },
  {
   "cell_type": "markdown",
   "id": "8b53a34c",
   "metadata": {},
   "source": [
    "Este código interactivo tiene como propósito preparar los datos requeridos para utilizar el software FMF para poder detectar microsismicidad. Vamos a requeris datos continuos en formato MINISEED además de los archivos con las respuestas intrumentales de las estaciones (archivos XML) que registraron los datos sísmicos continuos."
   ]
  },
  {
   "cell_type": "code",
   "execution_count": 22,
   "id": "342679b7",
   "metadata": {},
   "outputs": [],
   "source": [
    "# Debemos importar todos los paquetes que se van a utilizar\n",
    "import numpy as np\n",
    "import obspy as obs\n",
    "from obspy.geodetics.base import gps2dist_azimuth as Distance\n",
    "import matplotlib.pyplot as plt\n",
    "import glob\n",
    "import os\n",
    "import h5py as h5\n",
    "from obspy import read, read_inventory\n",
    "from obspy.core import UTCDateTime as udt"
   ]
  },
  {
   "cell_type": "code",
   "execution_count": 23,
   "id": "72dd5baa",
   "metadata": {},
   "outputs": [],
   "source": [
    "# Definimos el camino a las carpetas donde están nuestros datos sin preparar y \n",
    "# donde queremos escribir los datos una vez que estén ya preparados\n",
    "#path_data = '/home/insar/Bureau/fmf_tuto_igp/tutorial/datos/'\n",
    "#path_to_store_h5 = '/home/insar/Bureau/datos/preparados/'\n",
    "#path_data = '/home/insar/Bureau/fmf_tuto_igp/tutorial/datos/'\n",
    "#path_to_store_h5 = '/home/insar/Bureau/datos/preparados/'\n",
    "\n",
    "path_data = '/home/sanchezh/Public/fmf_tuto_igp/tutorial/datos/'\n",
    "path_to_store_h5 = '/home/sanchezh/datos/preparados/'"
   ]
  },
  {
   "cell_type": "code",
   "execution_count": 24,
   "id": "9fac5d42",
   "metadata": {},
   "outputs": [
    {
     "name": "stdout",
     "output_type": "stream",
     "text": [
      "Lista de los días que se van a procesar:  [146.]\n"
     ]
    }
   ],
   "source": [
    "# Datos de la red y lista de estaciones y componentes a utilizar\n",
    "network = 'PE'\n",
    "stations = ['LAGN']#,'CGLO','CHVY','QLK0']\n",
    "components=['BHE','BHN','BHZ'] # datos a 50 Hz, 50 muestras por segundo\n",
    "\n",
    "# Nombre del archivo de salida\n",
    "name_of_splitted_data_file = 'waveforms_'\n",
    "\n",
    "# Fecha de referencia. Ocuparemos el primer día del año 2022\n",
    "# ya que nuestros archivos están referenciados a ese dia\n",
    "# PE.CHVY..BHZ.D.2022.146   = día 146 del año 2022 = 26 de Mayo de 2022\n",
    "\n",
    "# Fecha de referencia\n",
    "start_date = udt('2022-01-01T00:00:00')\n",
    "start_time_first_day = udt('2022-01-01T00:00:00')\n",
    "\n",
    "# Crear lista de días con los que vamos a trabajar\n",
    "days = np.linspace(146,147,1) # on my computer\n",
    "print('Lista de los días que se van a procesar: ', days)\n"
   ]
  },
  {
   "cell_type": "markdown",
   "id": "653a04d5",
   "metadata": {},
   "source": [
    "## Parámetros de preprocesado de los datos\n",
    "\n",
    "En el siguiente bloque se deben definir las frequencias con las cuales se desea trabajar. Para una mejor detección de los eventos sísmicos utilizaremos en este caso un filtro pasabandas que permite el paso de frecuencias entre 0.05 y 22 Hz."
   ]
  },
  {
   "cell_type": "code",
   "execution_count": 25,
   "id": "5d0b6791",
   "metadata": {},
   "outputs": [],
   "source": [
    "# Definimos las frecuencias de corte de nuestro filtro a utilizar\n",
    "pre_filt = (.01,.05,22,24)\n",
    "bandpass = 'bandpass'\n",
    "bandpass_fmin = 5.0\n",
    "bandpass_fmax = 20.0"
   ]
  },
  {
   "cell_type": "markdown",
   "id": "ecf34135",
   "metadata": {},
   "source": [
    "## Preparación de los datos continuos"
   ]
  },
  {
   "cell_type": "code",
   "execution_count": 26,
   "id": "0791a099",
   "metadata": {},
   "outputs": [
    {
     "name": "stdout",
     "output_type": "stream",
     "text": [
      "=======================================================\n",
      "Espere por favor, este proceso puede tomar unos minutos\n",
      "=======================================================\n",
      "Datos en preparación para la fecha:  2022-05-26T00:00:00.000000Z\n",
      "Trabajando con la estación:  LAGN\n",
      "Preparando archivo de salida:  /home/sanchezh/Public/fmf_tuto_igp/tutorial/datos/PE.LAGN..BHE.D.2022.146\n",
      "4320000\n",
      "Preparando archivo de salida:  /home/sanchezh/Public/fmf_tuto_igp/tutorial/datos/PE.LAGN..BHN.D.2022.146\n",
      "4320000\n",
      "Preparando archivo de salida:  /home/sanchezh/Public/fmf_tuto_igp/tutorial/datos/PE.LAGN..BHZ.D.2022.146\n",
      "4320000\n",
      "=======================================================\n",
      "           Fin de la preparación de archivos           \n",
      "=======================================================\n"
     ]
    }
   ],
   "source": [
    "# Borrar todos los datos en la carpeta de salida\n",
    "# para tener un directorio limpio antes de correr el código\n",
    "#os.system('rm /home/insar/datos/preparados/*')\n",
    "os.system('rm /home/sanchezh/datos/preparados/*')\n",
    "\n",
    "print('=======================================================')\n",
    "print('Espere por favor, este proceso puede tomar unos minutos')\n",
    "print('=======================================================')\n",
    "\n",
    "# Ciclo \"for\" para preparar cada dia de la lista de días a analizar\n",
    "for k in range(len(days)):\n",
    "    # inicio de la fecha de preparación\n",
    "    start_time_splitted_data = start_time_first_day+86400*(days[k]-1)\n",
    "    print('Datos en preparación para la fecha: ', start_time_splitted_data)\n",
    "    # fina de la fecha de preparación\n",
    "    end_time_splitted_data = start_time_first_day+(86400*(days[k]))\n",
    "    # fecha de inicio de los datos (cuenta en segundos)\n",
    "    start_time_splitted_data_in_s = [start_time_splitted_data - start_date]\n",
    "    # Definición del archivo de salida\n",
    "    template = h5.File((path_to_store_h5+name_of_splitted_data_file+start_time_splitted_data.strftime('%Y-%m-%d')+'.hdf5'), 'w')\n",
    "    # Ciclo \"for\" sobre cada una de las estaciones a analizar\n",
    "    for i in range(len(stations)):\n",
    "        print('Trabajando con la estación: ', stations[i])\n",
    "        # Ciclo \"for\" sobre cada una de las componentes a analizar\n",
    "        for j in range(len(components)):\n",
    "            # Definición del archivo de datos input a leer\n",
    "            name_file_data = path_data + network + '.' + stations[i] + '..' + components[j] + '.D.2022.' + str(int(days[k])).zfill(3)  \n",
    "            print('Preparando archivo de salida: ', name_file_data)\n",
    "            # Definición del archivo con los datos de la estación\n",
    "            name_file_info_station = path_data + network + '.' + stations[i] + '.xml'\n",
    "            # Leer datos sísmicos del archivo de input\n",
    "            st = read(name_file_data)\n",
    "            print(st[0].stats.npts)\n",
    "            # Leer los datos de la estación sísmica\n",
    "            inv = read_inventory(name_file_info_station)\n",
    "            # Rellenar con ceros 0s los momentos donde la estación no funciona\n",
    "            st.trim(start_time_splitted_data, end_time_splitted_data, nearest_sample=True, pad=True, fill_value=0)\n",
    "            # Remover la respuesta instrumental de la estación a los datos sísmicos\n",
    "            st.remove_response(inventory=inv, pre_filt=pre_filt, plot=False)\n",
    "            # Filtrar los datos en un dado rango de frecuencias para un mejor analisis\n",
    "            st.filter(bandpass, freqmin=bandpass_fmin, freqmax=bandpass_fmax, zerophase=True)\n",
    "            # Guardar los datos en un arreglo temporal que guarda todas las estaciones y componentes\n",
    "            if i==0 and j==0:\n",
    "                    data_of_station = np.zeros((len(stations), len(components), st[0].stats.npts))\n",
    "                    # incrementar la amplitud por motivos computacionales\n",
    "                    data_of_station[i,j,:] = st[0].data * 100000.\n",
    "            else:\n",
    "                # incrementar la amplitud por motivos computacionales\n",
    "                data_of_station[i,j,:] = st[0].data * 100000.\n",
    "        # En la última iteración de los ciclos, guarda el archivo de salida con todo listo\n",
    "        if i==len(stations)-1:\n",
    "            template.create_dataset('waveforms', data=data_of_station)\n",
    "            template.create_dataset('stations', data=np.array((stations), dtype='|S8'))\n",
    "            template.create_dataset('components', data=np.array(components, dtype='|S8'))\n",
    "            template.create_dataset('date', data=np.asarray(start_time_splitted_data_in_s))\n",
    "            template.create_dataset('sampling_rate', data=st[0].stats.sampling_rate)\n",
    "    template.close()\n",
    "print('=======================================================')\n",
    "print('           Fin de la preparación de archivos           ')\n",
    "print('=======================================================')\n"
   ]
  },
  {
   "cell_type": "code",
   "execution_count": 35,
   "id": "dd931371",
   "metadata": {},
   "outputs": [
    {
     "data": {
      "image/png": "[encoded data removed]",
      "text/plain": [
       "<Figure size 800x250 with 1 Axes>"
      ]
     },
     "metadata": {
      "needs_background": "light"
     },
     "output_type": "display_data"
    }
   ],
   "source": [
    "si = 12*60*60*50 + 2*60*50\n",
    "sf = si + 6*60*50\n",
    "\n",
    "font = {'family' : 'normal',\n",
    "        'size'   : 18}\n",
    "\n",
    "plt.rc('font', **font)\n",
    "\n",
    "start = udt('2022-05-26T12:02:00.0')\n",
    "\n",
    "ref = udt('2022-05-26T12:02:0.00').timestamp\n",
    "st = obs.Trace(data_of_station[0][2][si:sf])\n",
    "st.stats.starttime = st.stats.starttime + ref\n",
    "st.stats.sampling_rate = 50\n",
    "#st.plot(starttime=start, endtime=end, outfile='ea.png', fontsize=25)\n",
    "st.plot(outfile='a.png')"
   ]
  },
  {
   "cell_type": "code",
   "execution_count": 33,
   "id": "d0ab6b15",
   "metadata": {},
   "outputs": [
    {
     "data": {
      "text/plain": [
       "1.0"
      ]
     },
     "execution_count": 33,
     "metadata": {},
     "output_type": "execute_result"
    }
   ],
   "source": [
    "st.stats.sampling_rate"
   ]
  },
  {
   "cell_type": "code",
   "execution_count": null,
   "id": "886dadfe",
   "metadata": {},
   "outputs": [],
   "source": []
  }
 ],
 "metadata": {
  "kernelspec": {
   "display_name": "Python 3 (ipykernel)",
   "language": "python",
   "name": "python3"
  },
  "language_info": {
   "codemirror_mode": {
    "name": "ipython",
    "version": 3
   },
   "file_extension": ".py",
   "mimetype": "text/x-python",
   "name": "python",
   "nbconvert_exporter": "python",
   "pygments_lexer": "ipython3",
   "version": "3.7.13"
  }
 },
 "nbformat": 4,
 "nbformat_minor": 5
}
