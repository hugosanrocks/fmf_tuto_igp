{
 "cells": [
  {
   "cell_type": "markdown",
   "metadata": {},
   "source": [
    "# Paso 0.1 (Opcional): Revisión de los datos continuos por día"
   ]
  },
  {
   "cell_type": "markdown",
   "metadata": {},
   "source": [
    "El objetivo de este pequeño código interactivo es revisar los datos continuos que fueron preprocesados en el Paso 0. Esta etapa es opcional, ya que el código del Paso 0 debería preparar correctamente los datos. Este paso es sólo una etapa que puede ayudar a visualizar la actividad sísmica de un día dado y para servir como método de control de calidad del preprocesado de los datos."
   ]
  },
  {
   "cell_type": "code",
   "execution_count": 38,
   "metadata": {},
   "outputs": [],
   "source": [
    "# Cargamos todos los paquetes que vamos a necesitar en este código\n",
    "import utils\n",
    "import numpy as np\n",
    "import matplotlib.pyplot as plt\n",
    "from obspy.core import UTCDateTime as udt"
   ]
  },
  {
   "cell_type": "markdown",
   "metadata": {},
   "source": [
    "# Lectura de los datos de entrada"
   ]
  },
  {
   "cell_type": "code",
   "execution_count": 39,
   "metadata": {},
   "outputs": [
    {
     "name": "stdout",
     "output_type": "stream",
     "text": [
      "Estación identificada con id:  0   CHVY\n"
     ]
    }
   ],
   "source": [
    "# Definición del nombre del archivo de datos a leer\n",
    "date = '2022-05-26'\n",
    "data_file = 'datos/preparados/waveforms_' + date + '.hdf5'\n",
    "\n",
    "# Lectura de los datos\n",
    "data = utils.load_data(data_file)\n",
    "\n",
    "# Definición de la estación que desea revisar\n",
    "station_name = 'CHVY'\n",
    "\n",
    "# Localización de la estación deseada en el archivo de datos leidos\n",
    "try:\n",
    "    station_id = data['metadata']['stations'].index(station_name)\n",
    "    print('Estación identificada con id: ',station_id, ' ', station_name)\n",
    "except:\n",
    "    print('La estación deseada no existe en los datos leidos')\n",
    "    print('revise los datos o elija otra estación')\n",
    "    print('La lista de estaciones existentes es: ')\n",
    "    print(data['metadata']['stations'])"
   ]
  },
  {
   "cell_type": "markdown",
   "metadata": {},
   "source": [
    "# Preparación de la grafica de los datos"
   ]
  },
  {
   "cell_type": "code",
   "execution_count": 40,
   "metadata": {},
   "outputs": [
    {
     "name": "stderr",
     "output_type": "stream",
     "text": [
      "/home/sanchezh/anaconda3/envs/fmf_tuto/lib/python3.7/site-packages/ipykernel_launcher.py:40: UserWarning: Matplotlib is currently using module://ipykernel.pylab.backend_inline, which is a non-GUI backend, so cannot show the figure.\n"
     ]
    },
    {
     "data": {
      "image/png": "[encoded data removed]",
      "text/plain": [
       "<Figure size 432x288 with 3 Axes>"
      ]
     },
     "metadata": {
      "needs_background": "light"
     },
     "output_type": "display_data"
    }
   ],
   "source": [
    "# Definición del nombre de la figura\n",
    "figure_name = 'Datos_estación_' + station_name\n",
    " \n",
    "# Creación de la figura\n",
    "fig1 = plt.figure(figure_name)\n",
    "#fig1.title(data['metadata']['date'])\n",
    "\n",
    "# Creación del vector tiempo con la duración del tamaño de los datos\n",
    "time = np.linspace(0., len(data['waveforms'][0][0]), len(data['waveforms'][0][0]))\n",
    "\n",
    "# Primer subplot\n",
    "ax1 = fig1.add_subplot(311)\n",
    "# Grafica de la componente E-W\n",
    "ax1.plot(time, data['waveforms'][station_id][0], color='blue', lw=3)#[2][samp_ini:samp_fin], lw=3)\n",
    "ax1.set_ylabel('Amplitud')\n",
    "ax1.set_xticklabels([])\n",
    "\n",
    "# Primer subplot\n",
    "ax2 = fig1.add_subplot(312)\n",
    "# Grafica de la componente E-W\n",
    "ax2.plot(time, data['waveforms'][station_id][1], color='red', lw=3)#[2][samp_ini:samp_fin], lw=3)\n",
    "ax2.set_ylabel('Amplitud')\n",
    "ax2.set_xticklabels([])\n",
    "\n",
    "# Primer subplot\n",
    "ax3 = fig1.add_subplot(313)\n",
    "# Grafica de la componente E-W\n",
    "ax3.plot(time, data['waveforms'][station_id][2], color='black', lw=3)#[2][samp_ini:samp_fin], lw=3)\n",
    "ax3.set_ylabel('Amplitud')\n",
    "\n",
    "ax3.set_xlabel('Tiempo (muestras)')\n",
    "\n",
    "# Definición del tamaño de letra en las figuras\n",
    "font = {'family': 'serif',\n",
    "        'size': 25}\n",
    "\n",
    "#print(data['metadata']['date'][0:10])\n",
    "fig1.suptitle(date + ' en estación ' + station_name)\n",
    "# Mostrar la figura\n",
    "fig1.show()\n"
   ]
  },
  {
   "cell_type": "code",
   "execution_count": null,
   "metadata": {},
   "outputs": [],
   "source": []
  }
 ],
 "metadata": {
  "kernelspec": {
   "display_name": "Python 3",
   "language": "python",
   "name": "python3"
  },
  "language_info": {
   "codemirror_mode": {
    "name": "ipython",
    "version": 3
   },
   "file_extension": ".py",
   "mimetype": "text/x-python",
   "name": "python",
   "nbconvert_exporter": "python",
   "pygments_lexer": "ipython3",
   "version": "3.7.3"
  }
 },
 "nbformat": 4,
 "nbformat_minor": 2
}
